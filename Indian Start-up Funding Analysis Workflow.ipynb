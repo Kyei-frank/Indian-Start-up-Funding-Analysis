{
 "cells": [
  {
   "cell_type": "markdown",
   "id": "0f93cc24",
   "metadata": {},
   "source": [
    "# Indian Start-up Funding Analysis"
   ]
  },
  {
   "cell_type": "markdown",
   "id": "c9e347a8",
   "metadata": {},
   "source": [
    "HYPOTHESIS:\n",
    "Indian startup Ecosystem is being championed by the Technology Sector\n",
    "\n",
    "\n",
    "QUESTIONS:\n",
    "1.\tWho are the top 10 startups based on total funds received\n",
    "2.\tWhat is the yearly trend in the number of startups funded\n",
    "3.\tWhat is the yearly trend in the total funds raised by startups\n",
    "4.\tWhat sector has the maximum number of startups\n",
    "5.  What sector raised the highest amount of fund\n",
    "6.\tWhich cities have the maximum number of startups\n",
    "7.\tWhat are the most common investment types\n",
    "8.\tWho are the top investors by number of startups funded\t\n"
   ]
  },
  {
   "cell_type": "markdown",
   "id": "1c7fb3b0",
   "metadata": {},
   "source": [
    "### Importing the required Libraries"
   ]
  },
  {
   "cell_type": "code",
   "execution_count": 2,
   "id": "f31423ba",
   "metadata": {},
   "outputs": [],
   "source": [
    "import pandas as pd\n",
    "import numpy as np\n",
    "import matplotlib.pyplot as plt\n",
    "import math\n",
    "import seaborn as sns\n",
    "import re\n",
    "%matplotlib inline\n",
    "import warnings\n",
    "warnings.filterwarnings('ignore')"
   ]
  },
  {
   "cell_type": "markdown",
   "id": "d2872518",
   "metadata": {},
   "source": [
    "### Loading and Reading the dataset  from Data Folder"
   ]
  },
  {
   "cell_type": "code",
   "execution_count": 3,
   "id": "ff3cda53",
   "metadata": {},
   "outputs": [],
   "source": [
    "# Loading dataset for each year\n",
    "data_2018 = pd.read_csv('Data/startup_funding2018.csv')\n",
    "data_2019 = pd.read_csv('Data/startup_funding2019.csv')\n",
    "data_2020 = pd.read_csv('Data/startup_funding2020.csv')\n",
    "data_2021 = pd.read_csv('Data/startup_funding2021.csv')"
   ]
  },
  {
   "cell_type": "markdown",
   "id": "aa73ff7a",
   "metadata": {},
   "source": [
    "### Exploring the dataset"
   ]
  },
  {
   "cell_type": "code",
   "execution_count": 4,
   "id": "76174e1f",
   "metadata": {},
   "outputs": [
    {
     "data": {
      "text/html": [
       "<div>\n",
       "<style scoped>\n",
       "    .dataframe tbody tr th:only-of-type {\n",
       "        vertical-align: middle;\n",
       "    }\n",
       "\n",
       "    .dataframe tbody tr th {\n",
       "        vertical-align: top;\n",
       "    }\n",
       "\n",
       "    .dataframe thead th {\n",
       "        text-align: right;\n",
       "    }\n",
       "</style>\n",
       "<table border=\"1\" class=\"dataframe\">\n",
       "  <thead>\n",
       "    <tr style=\"text-align: right;\">\n",
       "      <th></th>\n",
       "      <th>Company Name</th>\n",
       "      <th>Industry</th>\n",
       "      <th>Round/Series</th>\n",
       "      <th>Amount</th>\n",
       "      <th>Location</th>\n",
       "      <th>About Company</th>\n",
       "    </tr>\n",
       "  </thead>\n",
       "  <tbody>\n",
       "    <tr>\n",
       "      <th>0</th>\n",
       "      <td>TheCollegeFever</td>\n",
       "      <td>Brand Marketing, Event Promotion, Marketing, S...</td>\n",
       "      <td>Seed</td>\n",
       "      <td>250000</td>\n",
       "      <td>Bangalore, Karnataka, India</td>\n",
       "      <td>TheCollegeFever is a hub for fun, fiesta and f...</td>\n",
       "    </tr>\n",
       "    <tr>\n",
       "      <th>1</th>\n",
       "      <td>Happy Cow Dairy</td>\n",
       "      <td>Agriculture, Farming</td>\n",
       "      <td>Seed</td>\n",
       "      <td>₹40,000,000</td>\n",
       "      <td>Mumbai, Maharashtra, India</td>\n",
       "      <td>A startup which aggregates milk from dairy far...</td>\n",
       "    </tr>\n",
       "    <tr>\n",
       "      <th>2</th>\n",
       "      <td>MyLoanCare</td>\n",
       "      <td>Credit, Financial Services, Lending, Marketplace</td>\n",
       "      <td>Series A</td>\n",
       "      <td>₹65,000,000</td>\n",
       "      <td>Gurgaon, Haryana, India</td>\n",
       "      <td>Leading Online Loans Marketplace in India</td>\n",
       "    </tr>\n",
       "    <tr>\n",
       "      <th>3</th>\n",
       "      <td>PayMe India</td>\n",
       "      <td>Financial Services, FinTech</td>\n",
       "      <td>Angel</td>\n",
       "      <td>2000000</td>\n",
       "      <td>Noida, Uttar Pradesh, India</td>\n",
       "      <td>PayMe India is an innovative FinTech organizat...</td>\n",
       "    </tr>\n",
       "    <tr>\n",
       "      <th>4</th>\n",
       "      <td>Eunimart</td>\n",
       "      <td>E-Commerce Platforms, Retail, SaaS</td>\n",
       "      <td>Seed</td>\n",
       "      <td>—</td>\n",
       "      <td>Hyderabad, Andhra Pradesh, India</td>\n",
       "      <td>Eunimart is a one stop solution for merchants ...</td>\n",
       "    </tr>\n",
       "  </tbody>\n",
       "</table>\n",
       "</div>"
      ],
      "text/plain": [
       "      Company Name                                           Industry  \\\n",
       "0  TheCollegeFever  Brand Marketing, Event Promotion, Marketing, S...   \n",
       "1  Happy Cow Dairy                               Agriculture, Farming   \n",
       "2       MyLoanCare   Credit, Financial Services, Lending, Marketplace   \n",
       "3      PayMe India                        Financial Services, FinTech   \n",
       "4         Eunimart                 E-Commerce Platforms, Retail, SaaS   \n",
       "\n",
       "  Round/Series       Amount                          Location  \\\n",
       "0         Seed       250000       Bangalore, Karnataka, India   \n",
       "1         Seed  ₹40,000,000        Mumbai, Maharashtra, India   \n",
       "2     Series A  ₹65,000,000           Gurgaon, Haryana, India   \n",
       "3        Angel      2000000       Noida, Uttar Pradesh, India   \n",
       "4         Seed            —  Hyderabad, Andhra Pradesh, India   \n",
       "\n",
       "                                       About Company  \n",
       "0  TheCollegeFever is a hub for fun, fiesta and f...  \n",
       "1  A startup which aggregates milk from dairy far...  \n",
       "2          Leading Online Loans Marketplace in India  \n",
       "3  PayMe India is an innovative FinTech organizat...  \n",
       "4  Eunimart is a one stop solution for merchants ...  "
      ]
     },
     "execution_count": 4,
     "metadata": {},
     "output_type": "execute_result"
    }
   ],
   "source": [
    "data_2018.head() # Viewing the upper portion of the 2018 data to explore the content"
   ]
  },
  {
   "cell_type": "code",
   "execution_count": 5,
   "id": "26ef0a90",
   "metadata": {},
   "outputs": [
    {
     "data": {
      "text/html": [
       "<div>\n",
       "<style scoped>\n",
       "    .dataframe tbody tr th:only-of-type {\n",
       "        vertical-align: middle;\n",
       "    }\n",
       "\n",
       "    .dataframe tbody tr th {\n",
       "        vertical-align: top;\n",
       "    }\n",
       "\n",
       "    .dataframe thead th {\n",
       "        text-align: right;\n",
       "    }\n",
       "</style>\n",
       "<table border=\"1\" class=\"dataframe\">\n",
       "  <thead>\n",
       "    <tr style=\"text-align: right;\">\n",
       "      <th></th>\n",
       "      <th>Company/Brand</th>\n",
       "      <th>Founded</th>\n",
       "      <th>HeadQuarter</th>\n",
       "      <th>Sector</th>\n",
       "      <th>What it does</th>\n",
       "      <th>Founders</th>\n",
       "      <th>Investor</th>\n",
       "      <th>Amount($)</th>\n",
       "      <th>Stage</th>\n",
       "    </tr>\n",
       "  </thead>\n",
       "  <tbody>\n",
       "    <tr>\n",
       "      <th>0</th>\n",
       "      <td>Bombay Shaving</td>\n",
       "      <td>NaN</td>\n",
       "      <td>NaN</td>\n",
       "      <td>Ecommerce</td>\n",
       "      <td>Provides a range of male grooming products</td>\n",
       "      <td>Shantanu Deshpande</td>\n",
       "      <td>Sixth Sense Ventures</td>\n",
       "      <td>$6,300,000</td>\n",
       "      <td>NaN</td>\n",
       "    </tr>\n",
       "    <tr>\n",
       "      <th>1</th>\n",
       "      <td>Ruangguru</td>\n",
       "      <td>2014.0</td>\n",
       "      <td>Mumbai</td>\n",
       "      <td>Edtech</td>\n",
       "      <td>A learning platform that provides topic-based ...</td>\n",
       "      <td>Adamas Belva Syah Devara, Iman Usman.</td>\n",
       "      <td>General Atlantic</td>\n",
       "      <td>$150,000,000</td>\n",
       "      <td>Series C</td>\n",
       "    </tr>\n",
       "    <tr>\n",
       "      <th>2</th>\n",
       "      <td>Eduisfun</td>\n",
       "      <td>NaN</td>\n",
       "      <td>Mumbai</td>\n",
       "      <td>Edtech</td>\n",
       "      <td>It aims to make learning fun via games.</td>\n",
       "      <td>Jatin Solanki</td>\n",
       "      <td>Deepak Parekh, Amitabh Bachchan, Piyush Pandey</td>\n",
       "      <td>$28,000,000</td>\n",
       "      <td>Fresh funding</td>\n",
       "    </tr>\n",
       "    <tr>\n",
       "      <th>3</th>\n",
       "      <td>HomeLane</td>\n",
       "      <td>2014.0</td>\n",
       "      <td>Chennai</td>\n",
       "      <td>Interior design</td>\n",
       "      <td>Provides interior designing solutions</td>\n",
       "      <td>Srikanth Iyer, Rama Harinath</td>\n",
       "      <td>Evolvence India Fund (EIF), Pidilite Group, FJ...</td>\n",
       "      <td>$30,000,000</td>\n",
       "      <td>Series D</td>\n",
       "    </tr>\n",
       "    <tr>\n",
       "      <th>4</th>\n",
       "      <td>Nu Genes</td>\n",
       "      <td>2004.0</td>\n",
       "      <td>Telangana</td>\n",
       "      <td>AgriTech</td>\n",
       "      <td>It is a seed company engaged in production, pr...</td>\n",
       "      <td>Narayana Reddy Punyala</td>\n",
       "      <td>Innovation in Food and Agriculture (IFA)</td>\n",
       "      <td>$6,000,000</td>\n",
       "      <td>NaN</td>\n",
       "    </tr>\n",
       "  </tbody>\n",
       "</table>\n",
       "</div>"
      ],
      "text/plain": [
       "    Company/Brand  Founded HeadQuarter           Sector  \\\n",
       "0  Bombay Shaving      NaN         NaN        Ecommerce   \n",
       "1       Ruangguru   2014.0      Mumbai           Edtech   \n",
       "2        Eduisfun      NaN      Mumbai           Edtech   \n",
       "3        HomeLane   2014.0     Chennai  Interior design   \n",
       "4        Nu Genes   2004.0   Telangana         AgriTech   \n",
       "\n",
       "                                        What it does  \\\n",
       "0         Provides a range of male grooming products   \n",
       "1  A learning platform that provides topic-based ...   \n",
       "2            It aims to make learning fun via games.   \n",
       "3              Provides interior designing solutions   \n",
       "4  It is a seed company engaged in production, pr...   \n",
       "\n",
       "                                Founders  \\\n",
       "0                     Shantanu Deshpande   \n",
       "1  Adamas Belva Syah Devara, Iman Usman.   \n",
       "2                          Jatin Solanki   \n",
       "3           Srikanth Iyer, Rama Harinath   \n",
       "4                 Narayana Reddy Punyala   \n",
       "\n",
       "                                            Investor      Amount($)  \\\n",
       "0                               Sixth Sense Ventures    $6,300,000    \n",
       "1                                   General Atlantic  $150,000,000    \n",
       "2     Deepak Parekh, Amitabh Bachchan, Piyush Pandey   $28,000,000    \n",
       "3  Evolvence India Fund (EIF), Pidilite Group, FJ...   $30,000,000    \n",
       "4           Innovation in Food and Agriculture (IFA)    $6,000,000    \n",
       "\n",
       "           Stage  \n",
       "0            NaN  \n",
       "1       Series C  \n",
       "2  Fresh funding  \n",
       "3       Series D  \n",
       "4            NaN  "
      ]
     },
     "execution_count": 5,
     "metadata": {},
     "output_type": "execute_result"
    }
   ],
   "source": [
    "data_2019.head() # Viewing the upper portion of the 2019 data to explore the content"
   ]
  },
  {
   "cell_type": "code",
   "execution_count": 6,
   "id": "a9563b0e",
   "metadata": {},
   "outputs": [
    {
     "data": {
      "text/html": [
       "<div>\n",
       "<style scoped>\n",
       "    .dataframe tbody tr th:only-of-type {\n",
       "        vertical-align: middle;\n",
       "    }\n",
       "\n",
       "    .dataframe tbody tr th {\n",
       "        vertical-align: top;\n",
       "    }\n",
       "\n",
       "    .dataframe thead th {\n",
       "        text-align: right;\n",
       "    }\n",
       "</style>\n",
       "<table border=\"1\" class=\"dataframe\">\n",
       "  <thead>\n",
       "    <tr style=\"text-align: right;\">\n",
       "      <th></th>\n",
       "      <th>Company/Brand</th>\n",
       "      <th>Founded</th>\n",
       "      <th>HeadQuarter</th>\n",
       "      <th>Sector</th>\n",
       "      <th>What it does</th>\n",
       "      <th>Founders</th>\n",
       "      <th>Investor</th>\n",
       "      <th>Amount($)</th>\n",
       "      <th>Stage</th>\n",
       "      <th>Unnamed: 9</th>\n",
       "    </tr>\n",
       "  </thead>\n",
       "  <tbody>\n",
       "    <tr>\n",
       "      <th>0</th>\n",
       "      <td>Aqgromalin</td>\n",
       "      <td>2019</td>\n",
       "      <td>Chennai</td>\n",
       "      <td>AgriTech</td>\n",
       "      <td>Cultivating Ideas for Profit</td>\n",
       "      <td>Prasanna Manogaran, Bharani C L</td>\n",
       "      <td>Angel investors</td>\n",
       "      <td>$200,000</td>\n",
       "      <td>NaN</td>\n",
       "      <td>NaN</td>\n",
       "    </tr>\n",
       "    <tr>\n",
       "      <th>1</th>\n",
       "      <td>Krayonnz</td>\n",
       "      <td>2019</td>\n",
       "      <td>Bangalore</td>\n",
       "      <td>EdTech</td>\n",
       "      <td>An academy-guardian-scholar centric ecosystem ...</td>\n",
       "      <td>Saurabh Dixit, Gurudutt Upadhyay</td>\n",
       "      <td>GSF Accelerator</td>\n",
       "      <td>$100,000</td>\n",
       "      <td>Pre-seed</td>\n",
       "      <td>NaN</td>\n",
       "    </tr>\n",
       "    <tr>\n",
       "      <th>2</th>\n",
       "      <td>PadCare Labs</td>\n",
       "      <td>2018</td>\n",
       "      <td>Pune</td>\n",
       "      <td>Hygiene management</td>\n",
       "      <td>Converting bio-hazardous waste to harmless waste</td>\n",
       "      <td>Ajinkya Dhariya</td>\n",
       "      <td>Venture Center</td>\n",
       "      <td>—</td>\n",
       "      <td>Pre-seed</td>\n",
       "      <td>NaN</td>\n",
       "    </tr>\n",
       "    <tr>\n",
       "      <th>3</th>\n",
       "      <td>NCOME</td>\n",
       "      <td>2020</td>\n",
       "      <td>New Delhi</td>\n",
       "      <td>Escrow</td>\n",
       "      <td>Escrow-as-a-service platform</td>\n",
       "      <td>Ritesh Tiwari</td>\n",
       "      <td>Venture Catalysts, PointOne Capital</td>\n",
       "      <td>$400,000</td>\n",
       "      <td>NaN</td>\n",
       "      <td>NaN</td>\n",
       "    </tr>\n",
       "    <tr>\n",
       "      <th>4</th>\n",
       "      <td>Gramophone</td>\n",
       "      <td>2016</td>\n",
       "      <td>Indore</td>\n",
       "      <td>AgriTech</td>\n",
       "      <td>Gramophone is an AgTech platform enabling acce...</td>\n",
       "      <td>Ashish Rajan Singh, Harshit Gupta, Nishant Mah...</td>\n",
       "      <td>Siana Capital Management, Info Edge</td>\n",
       "      <td>$340,000</td>\n",
       "      <td>NaN</td>\n",
       "      <td>NaN</td>\n",
       "    </tr>\n",
       "  </tbody>\n",
       "</table>\n",
       "</div>"
      ],
      "text/plain": [
       "  Company/Brand Founded HeadQuarter              Sector  \\\n",
       "0    Aqgromalin    2019     Chennai            AgriTech   \n",
       "1      Krayonnz    2019   Bangalore              EdTech   \n",
       "2  PadCare Labs    2018        Pune  Hygiene management   \n",
       "3         NCOME    2020   New Delhi              Escrow   \n",
       "4    Gramophone    2016      Indore            AgriTech   \n",
       "\n",
       "                                        What it does  \\\n",
       "0                       Cultivating Ideas for Profit   \n",
       "1  An academy-guardian-scholar centric ecosystem ...   \n",
       "2   Converting bio-hazardous waste to harmless waste   \n",
       "3                       Escrow-as-a-service platform   \n",
       "4  Gramophone is an AgTech platform enabling acce...   \n",
       "\n",
       "                                            Founders  \\\n",
       "0                    Prasanna Manogaran, Bharani C L   \n",
       "1                   Saurabh Dixit, Gurudutt Upadhyay   \n",
       "2                                    Ajinkya Dhariya   \n",
       "3                                      Ritesh Tiwari   \n",
       "4  Ashish Rajan Singh, Harshit Gupta, Nishant Mah...   \n",
       "\n",
       "                              Investor  Amount($)     Stage Unnamed: 9  \n",
       "0                      Angel investors  $200,000        NaN        NaN  \n",
       "1                      GSF Accelerator  $100,000   Pre-seed        NaN  \n",
       "2                       Venture Center          —  Pre-seed        NaN  \n",
       "3  Venture Catalysts, PointOne Capital  $400,000        NaN        NaN  \n",
       "4  Siana Capital Management, Info Edge  $340,000        NaN        NaN  "
      ]
     },
     "execution_count": 6,
     "metadata": {},
     "output_type": "execute_result"
    }
   ],
   "source": [
    "data_2020.head() # Viewing the upper portion of the 2020 data to explore the content"
   ]
  },
  {
   "cell_type": "code",
   "execution_count": 7,
   "id": "1267546f",
   "metadata": {},
   "outputs": [
    {
     "data": {
      "text/html": [
       "<div>\n",
       "<style scoped>\n",
       "    .dataframe tbody tr th:only-of-type {\n",
       "        vertical-align: middle;\n",
       "    }\n",
       "\n",
       "    .dataframe tbody tr th {\n",
       "        vertical-align: top;\n",
       "    }\n",
       "\n",
       "    .dataframe thead th {\n",
       "        text-align: right;\n",
       "    }\n",
       "</style>\n",
       "<table border=\"1\" class=\"dataframe\">\n",
       "  <thead>\n",
       "    <tr style=\"text-align: right;\">\n",
       "      <th></th>\n",
       "      <th>Company/Brand</th>\n",
       "      <th>Founded</th>\n",
       "      <th>HeadQuarter</th>\n",
       "      <th>Sector</th>\n",
       "      <th>What it does</th>\n",
       "      <th>Founders</th>\n",
       "      <th>Investor</th>\n",
       "      <th>Amount($)</th>\n",
       "      <th>Stage</th>\n",
       "    </tr>\n",
       "  </thead>\n",
       "  <tbody>\n",
       "    <tr>\n",
       "      <th>0</th>\n",
       "      <td>Unbox Robotics</td>\n",
       "      <td>2019.0</td>\n",
       "      <td>Bangalore</td>\n",
       "      <td>AI startup</td>\n",
       "      <td>Unbox Robotics builds on-demand AI-driven ware...</td>\n",
       "      <td>Pramod Ghadge, Shahid Memon</td>\n",
       "      <td>BEENEXT, Entrepreneur First</td>\n",
       "      <td>$1,200,000</td>\n",
       "      <td>Pre-series A</td>\n",
       "    </tr>\n",
       "    <tr>\n",
       "      <th>1</th>\n",
       "      <td>upGrad</td>\n",
       "      <td>2015.0</td>\n",
       "      <td>Mumbai</td>\n",
       "      <td>EdTech</td>\n",
       "      <td>UpGrad is an online higher education platform.</td>\n",
       "      <td>Mayank Kumar, Phalgun Kompalli, Ravijot Chugh,...</td>\n",
       "      <td>Unilazer Ventures, IIFL Asset Management</td>\n",
       "      <td>$120,000,000</td>\n",
       "      <td>NaN</td>\n",
       "    </tr>\n",
       "    <tr>\n",
       "      <th>2</th>\n",
       "      <td>Lead School</td>\n",
       "      <td>2012.0</td>\n",
       "      <td>Mumbai</td>\n",
       "      <td>EdTech</td>\n",
       "      <td>LEAD School offers technology based school tra...</td>\n",
       "      <td>Smita Deorah, Sumeet Mehta</td>\n",
       "      <td>GSV Ventures, Westbridge Capital</td>\n",
       "      <td>$30,000,000</td>\n",
       "      <td>Series D</td>\n",
       "    </tr>\n",
       "    <tr>\n",
       "      <th>3</th>\n",
       "      <td>Bizongo</td>\n",
       "      <td>2015.0</td>\n",
       "      <td>Mumbai</td>\n",
       "      <td>B2B E-commerce</td>\n",
       "      <td>Bizongo is a business-to-business online marke...</td>\n",
       "      <td>Aniket Deb, Ankit Tomar, Sachin Agrawal</td>\n",
       "      <td>CDC Group, IDG Capital</td>\n",
       "      <td>$51,000,000</td>\n",
       "      <td>Series C</td>\n",
       "    </tr>\n",
       "    <tr>\n",
       "      <th>4</th>\n",
       "      <td>FypMoney</td>\n",
       "      <td>2021.0</td>\n",
       "      <td>Gurugram</td>\n",
       "      <td>FinTech</td>\n",
       "      <td>FypMoney is Digital NEO Bank for Teenagers, em...</td>\n",
       "      <td>Kapil Banwari</td>\n",
       "      <td>Liberatha Kallat, Mukesh Yadav, Dinesh Nagpal</td>\n",
       "      <td>$2,000,000</td>\n",
       "      <td>Seed</td>\n",
       "    </tr>\n",
       "  </tbody>\n",
       "</table>\n",
       "</div>"
      ],
      "text/plain": [
       "    Company/Brand  Founded HeadQuarter          Sector  \\\n",
       "0  Unbox Robotics   2019.0   Bangalore      AI startup   \n",
       "1          upGrad   2015.0      Mumbai          EdTech   \n",
       "2     Lead School   2012.0      Mumbai          EdTech   \n",
       "3         Bizongo   2015.0      Mumbai  B2B E-commerce   \n",
       "4        FypMoney   2021.0    Gurugram         FinTech   \n",
       "\n",
       "                                        What it does  \\\n",
       "0  Unbox Robotics builds on-demand AI-driven ware...   \n",
       "1     UpGrad is an online higher education platform.   \n",
       "2  LEAD School offers technology based school tra...   \n",
       "3  Bizongo is a business-to-business online marke...   \n",
       "4  FypMoney is Digital NEO Bank for Teenagers, em...   \n",
       "\n",
       "                                            Founders  \\\n",
       "0                        Pramod Ghadge, Shahid Memon   \n",
       "1  Mayank Kumar, Phalgun Kompalli, Ravijot Chugh,...   \n",
       "2                         Smita Deorah, Sumeet Mehta   \n",
       "3            Aniket Deb, Ankit Tomar, Sachin Agrawal   \n",
       "4                                      Kapil Banwari   \n",
       "\n",
       "                                        Investor      Amount($)         Stage  \n",
       "0                    BEENEXT, Entrepreneur First    $1,200,000   Pre-series A  \n",
       "1       Unilazer Ventures, IIFL Asset Management  $120,000,000            NaN  \n",
       "2               GSV Ventures, Westbridge Capital   $30,000,000       Series D  \n",
       "3                         CDC Group, IDG Capital   $51,000,000       Series C  \n",
       "4  Liberatha Kallat, Mukesh Yadav, Dinesh Nagpal    $2,000,000           Seed  "
      ]
     },
     "execution_count": 7,
     "metadata": {},
     "output_type": "execute_result"
    }
   ],
   "source": [
    "data_2021.head() # Viewing the upper portion of the 2021 data to explore the content"
   ]
  },
  {
   "cell_type": "markdown",
   "id": "ddf00f82",
   "metadata": {},
   "source": [
    "### Merging Dataset\n",
    "Since the data of each year is separated, we have to merge it together as one file in order to work with them. Also since there is no column for the date/year each company received funding, we have to create a column for 'Funding_year' so that we can fill in the year each startup received funding before we merge the data, in order not to lose an important feature of the data after merging it."
   ]
  },
  {
   "cell_type": "code",
   "execution_count": 8,
   "id": "2f82e6ad",
   "metadata": {},
   "outputs": [],
   "source": [
    "# Creating a column 'Funding_year' and filling in the year each startup received funding\n",
    "data_2018['Funding_year']= 2018\n",
    "data_2019['Funding_year']= 2019\n",
    "data_2020['Funding_year']= 2020\n",
    "data_2021['Funding_year']= 2021"
   ]
  },
  {
   "cell_type": "markdown",
   "id": "33c964aa",
   "metadata": {},
   "source": [
    "#### Reading Data to check added Columns (Funding_year)"
   ]
  },
  {
   "cell_type": "code",
   "execution_count": 9,
   "id": "862445e0",
   "metadata": {},
   "outputs": [
    {
     "data": {
      "text/html": [
       "<div>\n",
       "<style scoped>\n",
       "    .dataframe tbody tr th:only-of-type {\n",
       "        vertical-align: middle;\n",
       "    }\n",
       "\n",
       "    .dataframe tbody tr th {\n",
       "        vertical-align: top;\n",
       "    }\n",
       "\n",
       "    .dataframe thead th {\n",
       "        text-align: right;\n",
       "    }\n",
       "</style>\n",
       "<table border=\"1\" class=\"dataframe\">\n",
       "  <thead>\n",
       "    <tr style=\"text-align: right;\">\n",
       "      <th></th>\n",
       "      <th>Company Name</th>\n",
       "      <th>Industry</th>\n",
       "      <th>Round/Series</th>\n",
       "      <th>Amount</th>\n",
       "      <th>Location</th>\n",
       "      <th>About Company</th>\n",
       "      <th>Funding_year</th>\n",
       "    </tr>\n",
       "  </thead>\n",
       "  <tbody>\n",
       "    <tr>\n",
       "      <th>0</th>\n",
       "      <td>TheCollegeFever</td>\n",
       "      <td>Brand Marketing, Event Promotion, Marketing, S...</td>\n",
       "      <td>Seed</td>\n",
       "      <td>250000</td>\n",
       "      <td>Bangalore, Karnataka, India</td>\n",
       "      <td>TheCollegeFever is a hub for fun, fiesta and f...</td>\n",
       "      <td>2018</td>\n",
       "    </tr>\n",
       "    <tr>\n",
       "      <th>1</th>\n",
       "      <td>Happy Cow Dairy</td>\n",
       "      <td>Agriculture, Farming</td>\n",
       "      <td>Seed</td>\n",
       "      <td>₹40,000,000</td>\n",
       "      <td>Mumbai, Maharashtra, India</td>\n",
       "      <td>A startup which aggregates milk from dairy far...</td>\n",
       "      <td>2018</td>\n",
       "    </tr>\n",
       "    <tr>\n",
       "      <th>2</th>\n",
       "      <td>MyLoanCare</td>\n",
       "      <td>Credit, Financial Services, Lending, Marketplace</td>\n",
       "      <td>Series A</td>\n",
       "      <td>₹65,000,000</td>\n",
       "      <td>Gurgaon, Haryana, India</td>\n",
       "      <td>Leading Online Loans Marketplace in India</td>\n",
       "      <td>2018</td>\n",
       "    </tr>\n",
       "    <tr>\n",
       "      <th>3</th>\n",
       "      <td>PayMe India</td>\n",
       "      <td>Financial Services, FinTech</td>\n",
       "      <td>Angel</td>\n",
       "      <td>2000000</td>\n",
       "      <td>Noida, Uttar Pradesh, India</td>\n",
       "      <td>PayMe India is an innovative FinTech organizat...</td>\n",
       "      <td>2018</td>\n",
       "    </tr>\n",
       "    <tr>\n",
       "      <th>4</th>\n",
       "      <td>Eunimart</td>\n",
       "      <td>E-Commerce Platforms, Retail, SaaS</td>\n",
       "      <td>Seed</td>\n",
       "      <td>—</td>\n",
       "      <td>Hyderabad, Andhra Pradesh, India</td>\n",
       "      <td>Eunimart is a one stop solution for merchants ...</td>\n",
       "      <td>2018</td>\n",
       "    </tr>\n",
       "    <tr>\n",
       "      <th>...</th>\n",
       "      <td>...</td>\n",
       "      <td>...</td>\n",
       "      <td>...</td>\n",
       "      <td>...</td>\n",
       "      <td>...</td>\n",
       "      <td>...</td>\n",
       "      <td>...</td>\n",
       "    </tr>\n",
       "    <tr>\n",
       "      <th>521</th>\n",
       "      <td>Udaan</td>\n",
       "      <td>B2B, Business Development, Internet, Marketplace</td>\n",
       "      <td>Series C</td>\n",
       "      <td>225000000</td>\n",
       "      <td>Bangalore, Karnataka, India</td>\n",
       "      <td>Udaan is a B2B trade platform, designed specif...</td>\n",
       "      <td>2018</td>\n",
       "    </tr>\n",
       "    <tr>\n",
       "      <th>522</th>\n",
       "      <td>Happyeasygo Group</td>\n",
       "      <td>Tourism, Travel</td>\n",
       "      <td>Series A</td>\n",
       "      <td>—</td>\n",
       "      <td>Haryana, Haryana, India</td>\n",
       "      <td>HappyEasyGo is an online travel domain.</td>\n",
       "      <td>2018</td>\n",
       "    </tr>\n",
       "    <tr>\n",
       "      <th>523</th>\n",
       "      <td>Mombay</td>\n",
       "      <td>Food and Beverage, Food Delivery, Internet</td>\n",
       "      <td>Seed</td>\n",
       "      <td>$7,500.00</td>\n",
       "      <td>Mumbai, Maharashtra, India</td>\n",
       "      <td>Mombay is a unique opportunity for housewives ...</td>\n",
       "      <td>2018</td>\n",
       "    </tr>\n",
       "    <tr>\n",
       "      <th>524</th>\n",
       "      <td>Droni Tech</td>\n",
       "      <td>Information Technology</td>\n",
       "      <td>Seed</td>\n",
       "      <td>₹35,000,000</td>\n",
       "      <td>Mumbai, Maharashtra, India</td>\n",
       "      <td>Droni Tech manufacture UAVs and develop softwa...</td>\n",
       "      <td>2018</td>\n",
       "    </tr>\n",
       "    <tr>\n",
       "      <th>525</th>\n",
       "      <td>Netmeds</td>\n",
       "      <td>Biotechnology, Health Care, Pharmaceutical</td>\n",
       "      <td>Series C</td>\n",
       "      <td>35000000</td>\n",
       "      <td>Chennai, Tamil Nadu, India</td>\n",
       "      <td>Welcome to India's most convenient pharmacy!</td>\n",
       "      <td>2018</td>\n",
       "    </tr>\n",
       "  </tbody>\n",
       "</table>\n",
       "<p>526 rows × 7 columns</p>\n",
       "</div>"
      ],
      "text/plain": [
       "          Company Name                                           Industry  \\\n",
       "0      TheCollegeFever  Brand Marketing, Event Promotion, Marketing, S...   \n",
       "1      Happy Cow Dairy                               Agriculture, Farming   \n",
       "2           MyLoanCare   Credit, Financial Services, Lending, Marketplace   \n",
       "3          PayMe India                        Financial Services, FinTech   \n",
       "4             Eunimart                 E-Commerce Platforms, Retail, SaaS   \n",
       "..                 ...                                                ...   \n",
       "521              Udaan   B2B, Business Development, Internet, Marketplace   \n",
       "522  Happyeasygo Group                                    Tourism, Travel   \n",
       "523             Mombay         Food and Beverage, Food Delivery, Internet   \n",
       "524         Droni Tech                             Information Technology   \n",
       "525            Netmeds         Biotechnology, Health Care, Pharmaceutical   \n",
       "\n",
       "    Round/Series       Amount                          Location  \\\n",
       "0           Seed       250000       Bangalore, Karnataka, India   \n",
       "1           Seed  ₹40,000,000        Mumbai, Maharashtra, India   \n",
       "2       Series A  ₹65,000,000           Gurgaon, Haryana, India   \n",
       "3          Angel      2000000       Noida, Uttar Pradesh, India   \n",
       "4           Seed            —  Hyderabad, Andhra Pradesh, India   \n",
       "..           ...          ...                               ...   \n",
       "521     Series C    225000000       Bangalore, Karnataka, India   \n",
       "522     Series A            —           Haryana, Haryana, India   \n",
       "523         Seed   $7,500.00         Mumbai, Maharashtra, India   \n",
       "524         Seed  ₹35,000,000        Mumbai, Maharashtra, India   \n",
       "525     Series C     35000000        Chennai, Tamil Nadu, India   \n",
       "\n",
       "                                         About Company  Funding_year  \n",
       "0    TheCollegeFever is a hub for fun, fiesta and f...          2018  \n",
       "1    A startup which aggregates milk from dairy far...          2018  \n",
       "2            Leading Online Loans Marketplace in India          2018  \n",
       "3    PayMe India is an innovative FinTech organizat...          2018  \n",
       "4    Eunimart is a one stop solution for merchants ...          2018  \n",
       "..                                                 ...           ...  \n",
       "521  Udaan is a B2B trade platform, designed specif...          2018  \n",
       "522            HappyEasyGo is an online travel domain.          2018  \n",
       "523  Mombay is a unique opportunity for housewives ...          2018  \n",
       "524  Droni Tech manufacture UAVs and develop softwa...          2018  \n",
       "525       Welcome to India's most convenient pharmacy!          2018  \n",
       "\n",
       "[526 rows x 7 columns]"
      ]
     },
     "execution_count": 9,
     "metadata": {},
     "output_type": "execute_result"
    }
   ],
   "source": [
    "data_2018"
   ]
  },
  {
   "cell_type": "code",
   "execution_count": 10,
   "id": "6d8ba953",
   "metadata": {},
   "outputs": [
    {
     "data": {
      "text/html": [
       "<div>\n",
       "<style scoped>\n",
       "    .dataframe tbody tr th:only-of-type {\n",
       "        vertical-align: middle;\n",
       "    }\n",
       "\n",
       "    .dataframe tbody tr th {\n",
       "        vertical-align: top;\n",
       "    }\n",
       "\n",
       "    .dataframe thead th {\n",
       "        text-align: right;\n",
       "    }\n",
       "</style>\n",
       "<table border=\"1\" class=\"dataframe\">\n",
       "  <thead>\n",
       "    <tr style=\"text-align: right;\">\n",
       "      <th></th>\n",
       "      <th>Company/Brand</th>\n",
       "      <th>Founded</th>\n",
       "      <th>HeadQuarter</th>\n",
       "      <th>Sector</th>\n",
       "      <th>What it does</th>\n",
       "      <th>Founders</th>\n",
       "      <th>Investor</th>\n",
       "      <th>Amount($)</th>\n",
       "      <th>Stage</th>\n",
       "      <th>Funding_year</th>\n",
       "    </tr>\n",
       "  </thead>\n",
       "  <tbody>\n",
       "    <tr>\n",
       "      <th>0</th>\n",
       "      <td>Bombay Shaving</td>\n",
       "      <td>NaN</td>\n",
       "      <td>NaN</td>\n",
       "      <td>Ecommerce</td>\n",
       "      <td>Provides a range of male grooming products</td>\n",
       "      <td>Shantanu Deshpande</td>\n",
       "      <td>Sixth Sense Ventures</td>\n",
       "      <td>$6,300,000</td>\n",
       "      <td>NaN</td>\n",
       "      <td>2019</td>\n",
       "    </tr>\n",
       "    <tr>\n",
       "      <th>1</th>\n",
       "      <td>Ruangguru</td>\n",
       "      <td>2014.0</td>\n",
       "      <td>Mumbai</td>\n",
       "      <td>Edtech</td>\n",
       "      <td>A learning platform that provides topic-based ...</td>\n",
       "      <td>Adamas Belva Syah Devara, Iman Usman.</td>\n",
       "      <td>General Atlantic</td>\n",
       "      <td>$150,000,000</td>\n",
       "      <td>Series C</td>\n",
       "      <td>2019</td>\n",
       "    </tr>\n",
       "    <tr>\n",
       "      <th>2</th>\n",
       "      <td>Eduisfun</td>\n",
       "      <td>NaN</td>\n",
       "      <td>Mumbai</td>\n",
       "      <td>Edtech</td>\n",
       "      <td>It aims to make learning fun via games.</td>\n",
       "      <td>Jatin Solanki</td>\n",
       "      <td>Deepak Parekh, Amitabh Bachchan, Piyush Pandey</td>\n",
       "      <td>$28,000,000</td>\n",
       "      <td>Fresh funding</td>\n",
       "      <td>2019</td>\n",
       "    </tr>\n",
       "    <tr>\n",
       "      <th>3</th>\n",
       "      <td>HomeLane</td>\n",
       "      <td>2014.0</td>\n",
       "      <td>Chennai</td>\n",
       "      <td>Interior design</td>\n",
       "      <td>Provides interior designing solutions</td>\n",
       "      <td>Srikanth Iyer, Rama Harinath</td>\n",
       "      <td>Evolvence India Fund (EIF), Pidilite Group, FJ...</td>\n",
       "      <td>$30,000,000</td>\n",
       "      <td>Series D</td>\n",
       "      <td>2019</td>\n",
       "    </tr>\n",
       "    <tr>\n",
       "      <th>4</th>\n",
       "      <td>Nu Genes</td>\n",
       "      <td>2004.0</td>\n",
       "      <td>Telangana</td>\n",
       "      <td>AgriTech</td>\n",
       "      <td>It is a seed company engaged in production, pr...</td>\n",
       "      <td>Narayana Reddy Punyala</td>\n",
       "      <td>Innovation in Food and Agriculture (IFA)</td>\n",
       "      <td>$6,000,000</td>\n",
       "      <td>NaN</td>\n",
       "      <td>2019</td>\n",
       "    </tr>\n",
       "    <tr>\n",
       "      <th>...</th>\n",
       "      <td>...</td>\n",
       "      <td>...</td>\n",
       "      <td>...</td>\n",
       "      <td>...</td>\n",
       "      <td>...</td>\n",
       "      <td>...</td>\n",
       "      <td>...</td>\n",
       "      <td>...</td>\n",
       "      <td>...</td>\n",
       "      <td>...</td>\n",
       "    </tr>\n",
       "    <tr>\n",
       "      <th>84</th>\n",
       "      <td>Infra.Market</td>\n",
       "      <td>NaN</td>\n",
       "      <td>Mumbai</td>\n",
       "      <td>Infratech</td>\n",
       "      <td>It connects client requirements to their suppl...</td>\n",
       "      <td>Aaditya Sharda, Souvik Sengupta</td>\n",
       "      <td>Tiger Global, Nexus Venture Partners, Accel Pa...</td>\n",
       "      <td>$20,000,000</td>\n",
       "      <td>Series A</td>\n",
       "      <td>2019</td>\n",
       "    </tr>\n",
       "    <tr>\n",
       "      <th>85</th>\n",
       "      <td>Oyo</td>\n",
       "      <td>2013.0</td>\n",
       "      <td>Gurugram</td>\n",
       "      <td>Hospitality</td>\n",
       "      <td>Provides rooms for comfortable stay</td>\n",
       "      <td>Ritesh Agarwal</td>\n",
       "      <td>MyPreferred Transformation, Avendus Finance, S...</td>\n",
       "      <td>$693,000,000</td>\n",
       "      <td>NaN</td>\n",
       "      <td>2019</td>\n",
       "    </tr>\n",
       "    <tr>\n",
       "      <th>86</th>\n",
       "      <td>GoMechanic</td>\n",
       "      <td>2016.0</td>\n",
       "      <td>Delhi</td>\n",
       "      <td>Automobile &amp; Technology</td>\n",
       "      <td>Find automobile repair and maintenance service...</td>\n",
       "      <td>Amit Bhasin, Kushal Karwa, Nitin Rana, Rishabh...</td>\n",
       "      <td>Sequoia Capital</td>\n",
       "      <td>$5,000,000</td>\n",
       "      <td>Series B</td>\n",
       "      <td>2019</td>\n",
       "    </tr>\n",
       "    <tr>\n",
       "      <th>87</th>\n",
       "      <td>Spinny</td>\n",
       "      <td>2015.0</td>\n",
       "      <td>Delhi</td>\n",
       "      <td>Automobile</td>\n",
       "      <td>Online car retailer</td>\n",
       "      <td>Niraj Singh, Ramanshu Mahaur, Ganesh Pawar, Mo...</td>\n",
       "      <td>Norwest Venture Partners, General Catalyst, Fu...</td>\n",
       "      <td>$50,000,000</td>\n",
       "      <td>NaN</td>\n",
       "      <td>2019</td>\n",
       "    </tr>\n",
       "    <tr>\n",
       "      <th>88</th>\n",
       "      <td>Ess Kay Fincorp</td>\n",
       "      <td>NaN</td>\n",
       "      <td>Rajasthan</td>\n",
       "      <td>Banking</td>\n",
       "      <td>Organised Non-Banking Finance Company</td>\n",
       "      <td>Rajendra Setia</td>\n",
       "      <td>TPG, Norwest Venture Partners, Evolvence India</td>\n",
       "      <td>$33,000,000</td>\n",
       "      <td>NaN</td>\n",
       "      <td>2019</td>\n",
       "    </tr>\n",
       "  </tbody>\n",
       "</table>\n",
       "<p>89 rows × 10 columns</p>\n",
       "</div>"
      ],
      "text/plain": [
       "      Company/Brand  Founded HeadQuarter                   Sector  \\\n",
       "0    Bombay Shaving      NaN         NaN                Ecommerce   \n",
       "1         Ruangguru   2014.0      Mumbai                   Edtech   \n",
       "2          Eduisfun      NaN      Mumbai                   Edtech   \n",
       "3          HomeLane   2014.0     Chennai          Interior design   \n",
       "4          Nu Genes   2004.0   Telangana                 AgriTech   \n",
       "..              ...      ...         ...                      ...   \n",
       "84     Infra.Market      NaN      Mumbai                Infratech   \n",
       "85              Oyo   2013.0    Gurugram              Hospitality   \n",
       "86       GoMechanic   2016.0       Delhi  Automobile & Technology   \n",
       "87           Spinny   2015.0       Delhi               Automobile   \n",
       "88  Ess Kay Fincorp      NaN   Rajasthan                  Banking   \n",
       "\n",
       "                                         What it does  \\\n",
       "0          Provides a range of male grooming products   \n",
       "1   A learning platform that provides topic-based ...   \n",
       "2             It aims to make learning fun via games.   \n",
       "3               Provides interior designing solutions   \n",
       "4   It is a seed company engaged in production, pr...   \n",
       "..                                                ...   \n",
       "84  It connects client requirements to their suppl...   \n",
       "85                Provides rooms for comfortable stay   \n",
       "86  Find automobile repair and maintenance service...   \n",
       "87                                Online car retailer   \n",
       "88              Organised Non-Banking Finance Company   \n",
       "\n",
       "                                             Founders  \\\n",
       "0                                  Shantanu Deshpande   \n",
       "1               Adamas Belva Syah Devara, Iman Usman.   \n",
       "2                                       Jatin Solanki   \n",
       "3                        Srikanth Iyer, Rama Harinath   \n",
       "4                              Narayana Reddy Punyala   \n",
       "..                                                ...   \n",
       "84                    Aaditya Sharda, Souvik Sengupta   \n",
       "85                                     Ritesh Agarwal   \n",
       "86  Amit Bhasin, Kushal Karwa, Nitin Rana, Rishabh...   \n",
       "87  Niraj Singh, Ramanshu Mahaur, Ganesh Pawar, Mo...   \n",
       "88                                     Rajendra Setia   \n",
       "\n",
       "                                             Investor      Amount($)  \\\n",
       "0                                Sixth Sense Ventures    $6,300,000    \n",
       "1                                    General Atlantic  $150,000,000    \n",
       "2      Deepak Parekh, Amitabh Bachchan, Piyush Pandey   $28,000,000    \n",
       "3   Evolvence India Fund (EIF), Pidilite Group, FJ...   $30,000,000    \n",
       "4            Innovation in Food and Agriculture (IFA)    $6,000,000    \n",
       "..                                                ...            ...   \n",
       "84  Tiger Global, Nexus Venture Partners, Accel Pa...   $20,000,000    \n",
       "85  MyPreferred Transformation, Avendus Finance, S...  $693,000,000    \n",
       "86                                    Sequoia Capital    $5,000,000    \n",
       "87  Norwest Venture Partners, General Catalyst, Fu...   $50,000,000    \n",
       "88     TPG, Norwest Venture Partners, Evolvence India   $33,000,000    \n",
       "\n",
       "            Stage  Funding_year  \n",
       "0             NaN          2019  \n",
       "1        Series C          2019  \n",
       "2   Fresh funding          2019  \n",
       "3        Series D          2019  \n",
       "4             NaN          2019  \n",
       "..            ...           ...  \n",
       "84       Series A          2019  \n",
       "85            NaN          2019  \n",
       "86       Series B          2019  \n",
       "87            NaN          2019  \n",
       "88            NaN          2019  \n",
       "\n",
       "[89 rows x 10 columns]"
      ]
     },
     "execution_count": 10,
     "metadata": {},
     "output_type": "execute_result"
    }
   ],
   "source": [
    "data_2019"
   ]
  },
  {
   "cell_type": "code",
   "execution_count": 11,
   "id": "69bb0ae2",
   "metadata": {
    "scrolled": true
   },
   "outputs": [
    {
     "data": {
      "text/html": [
       "<div>\n",
       "<style scoped>\n",
       "    .dataframe tbody tr th:only-of-type {\n",
       "        vertical-align: middle;\n",
       "    }\n",
       "\n",
       "    .dataframe tbody tr th {\n",
       "        vertical-align: top;\n",
       "    }\n",
       "\n",
       "    .dataframe thead th {\n",
       "        text-align: right;\n",
       "    }\n",
       "</style>\n",
       "<table border=\"1\" class=\"dataframe\">\n",
       "  <thead>\n",
       "    <tr style=\"text-align: right;\">\n",
       "      <th></th>\n",
       "      <th>Company/Brand</th>\n",
       "      <th>Founded</th>\n",
       "      <th>HeadQuarter</th>\n",
       "      <th>Sector</th>\n",
       "      <th>What it does</th>\n",
       "      <th>Founders</th>\n",
       "      <th>Investor</th>\n",
       "      <th>Amount($)</th>\n",
       "      <th>Stage</th>\n",
       "      <th>Unnamed: 9</th>\n",
       "      <th>Funding_year</th>\n",
       "    </tr>\n",
       "  </thead>\n",
       "  <tbody>\n",
       "    <tr>\n",
       "      <th>0</th>\n",
       "      <td>Aqgromalin</td>\n",
       "      <td>2019</td>\n",
       "      <td>Chennai</td>\n",
       "      <td>AgriTech</td>\n",
       "      <td>Cultivating Ideas for Profit</td>\n",
       "      <td>Prasanna Manogaran, Bharani C L</td>\n",
       "      <td>Angel investors</td>\n",
       "      <td>$200,000</td>\n",
       "      <td>NaN</td>\n",
       "      <td>NaN</td>\n",
       "      <td>2020</td>\n",
       "    </tr>\n",
       "    <tr>\n",
       "      <th>1</th>\n",
       "      <td>Krayonnz</td>\n",
       "      <td>2019</td>\n",
       "      <td>Bangalore</td>\n",
       "      <td>EdTech</td>\n",
       "      <td>An academy-guardian-scholar centric ecosystem ...</td>\n",
       "      <td>Saurabh Dixit, Gurudutt Upadhyay</td>\n",
       "      <td>GSF Accelerator</td>\n",
       "      <td>$100,000</td>\n",
       "      <td>Pre-seed</td>\n",
       "      <td>NaN</td>\n",
       "      <td>2020</td>\n",
       "    </tr>\n",
       "    <tr>\n",
       "      <th>2</th>\n",
       "      <td>PadCare Labs</td>\n",
       "      <td>2018</td>\n",
       "      <td>Pune</td>\n",
       "      <td>Hygiene management</td>\n",
       "      <td>Converting bio-hazardous waste to harmless waste</td>\n",
       "      <td>Ajinkya Dhariya</td>\n",
       "      <td>Venture Center</td>\n",
       "      <td>—</td>\n",
       "      <td>Pre-seed</td>\n",
       "      <td>NaN</td>\n",
       "      <td>2020</td>\n",
       "    </tr>\n",
       "    <tr>\n",
       "      <th>3</th>\n",
       "      <td>NCOME</td>\n",
       "      <td>2020</td>\n",
       "      <td>New Delhi</td>\n",
       "      <td>Escrow</td>\n",
       "      <td>Escrow-as-a-service platform</td>\n",
       "      <td>Ritesh Tiwari</td>\n",
       "      <td>Venture Catalysts, PointOne Capital</td>\n",
       "      <td>$400,000</td>\n",
       "      <td>NaN</td>\n",
       "      <td>NaN</td>\n",
       "      <td>2020</td>\n",
       "    </tr>\n",
       "    <tr>\n",
       "      <th>4</th>\n",
       "      <td>Gramophone</td>\n",
       "      <td>2016</td>\n",
       "      <td>Indore</td>\n",
       "      <td>AgriTech</td>\n",
       "      <td>Gramophone is an AgTech platform enabling acce...</td>\n",
       "      <td>Ashish Rajan Singh, Harshit Gupta, Nishant Mah...</td>\n",
       "      <td>Siana Capital Management, Info Edge</td>\n",
       "      <td>$340,000</td>\n",
       "      <td>NaN</td>\n",
       "      <td>NaN</td>\n",
       "      <td>2020</td>\n",
       "    </tr>\n",
       "    <tr>\n",
       "      <th>...</th>\n",
       "      <td>...</td>\n",
       "      <td>...</td>\n",
       "      <td>...</td>\n",
       "      <td>...</td>\n",
       "      <td>...</td>\n",
       "      <td>...</td>\n",
       "      <td>...</td>\n",
       "      <td>...</td>\n",
       "      <td>...</td>\n",
       "      <td>...</td>\n",
       "      <td>...</td>\n",
       "    </tr>\n",
       "    <tr>\n",
       "      <th>1050</th>\n",
       "      <td>Leverage Edu</td>\n",
       "      <td>NaN</td>\n",
       "      <td>Delhi</td>\n",
       "      <td>Edtech</td>\n",
       "      <td>AI enabled marketplace that provides career gu...</td>\n",
       "      <td>Akshay Chaturvedi</td>\n",
       "      <td>DSG Consumer Partners, Blume Ventures</td>\n",
       "      <td>$1,500,000</td>\n",
       "      <td>NaN</td>\n",
       "      <td>NaN</td>\n",
       "      <td>2020</td>\n",
       "    </tr>\n",
       "    <tr>\n",
       "      <th>1051</th>\n",
       "      <td>EpiFi</td>\n",
       "      <td>NaN</td>\n",
       "      <td>NaN</td>\n",
       "      <td>Fintech</td>\n",
       "      <td>It offers customers with a single interface fo...</td>\n",
       "      <td>Sujith Narayanan, Sumit Gwalani</td>\n",
       "      <td>Sequoia India, Ribbit Capital</td>\n",
       "      <td>$13,200,000</td>\n",
       "      <td>Seed Round</td>\n",
       "      <td>NaN</td>\n",
       "      <td>2020</td>\n",
       "    </tr>\n",
       "    <tr>\n",
       "      <th>1052</th>\n",
       "      <td>Purplle</td>\n",
       "      <td>2012</td>\n",
       "      <td>Mumbai</td>\n",
       "      <td>Cosmetics</td>\n",
       "      <td>Online makeup and beauty products retailer</td>\n",
       "      <td>Manish Taneja, Rahul Dash</td>\n",
       "      <td>Verlinvest</td>\n",
       "      <td>$8,000,000</td>\n",
       "      <td>NaN</td>\n",
       "      <td>NaN</td>\n",
       "      <td>2020</td>\n",
       "    </tr>\n",
       "    <tr>\n",
       "      <th>1053</th>\n",
       "      <td>Shuttl</td>\n",
       "      <td>2015</td>\n",
       "      <td>Delhi</td>\n",
       "      <td>Transport</td>\n",
       "      <td>App based bus aggregator serice</td>\n",
       "      <td>Amit Singh, Deepanshu Malviya</td>\n",
       "      <td>SIG Global India Fund LLP.</td>\n",
       "      <td>$8,043,000</td>\n",
       "      <td>Series C</td>\n",
       "      <td>NaN</td>\n",
       "      <td>2020</td>\n",
       "    </tr>\n",
       "    <tr>\n",
       "      <th>1054</th>\n",
       "      <td>Pando</td>\n",
       "      <td>2017</td>\n",
       "      <td>Chennai</td>\n",
       "      <td>Logitech</td>\n",
       "      <td>Networked logistics management software</td>\n",
       "      <td>Jayakrishnan, Abhijeet Manohar</td>\n",
       "      <td>Chiratae Ventures</td>\n",
       "      <td>$9,000,000</td>\n",
       "      <td>Series A</td>\n",
       "      <td>NaN</td>\n",
       "      <td>2020</td>\n",
       "    </tr>\n",
       "  </tbody>\n",
       "</table>\n",
       "<p>1055 rows × 11 columns</p>\n",
       "</div>"
      ],
      "text/plain": [
       "     Company/Brand Founded HeadQuarter              Sector  \\\n",
       "0       Aqgromalin    2019     Chennai            AgriTech   \n",
       "1         Krayonnz    2019   Bangalore              EdTech   \n",
       "2     PadCare Labs    2018        Pune  Hygiene management   \n",
       "3            NCOME    2020   New Delhi              Escrow   \n",
       "4       Gramophone    2016      Indore            AgriTech   \n",
       "...            ...     ...         ...                 ...   \n",
       "1050  Leverage Edu     NaN       Delhi              Edtech   \n",
       "1051         EpiFi     NaN         NaN             Fintech   \n",
       "1052       Purplle    2012      Mumbai           Cosmetics   \n",
       "1053        Shuttl    2015       Delhi           Transport   \n",
       "1054         Pando    2017     Chennai            Logitech   \n",
       "\n",
       "                                           What it does  \\\n",
       "0                          Cultivating Ideas for Profit   \n",
       "1     An academy-guardian-scholar centric ecosystem ...   \n",
       "2      Converting bio-hazardous waste to harmless waste   \n",
       "3                          Escrow-as-a-service platform   \n",
       "4     Gramophone is an AgTech platform enabling acce...   \n",
       "...                                                 ...   \n",
       "1050  AI enabled marketplace that provides career gu...   \n",
       "1051  It offers customers with a single interface fo...   \n",
       "1052         Online makeup and beauty products retailer   \n",
       "1053                    App based bus aggregator serice   \n",
       "1054            Networked logistics management software   \n",
       "\n",
       "                                               Founders  \\\n",
       "0                       Prasanna Manogaran, Bharani C L   \n",
       "1                      Saurabh Dixit, Gurudutt Upadhyay   \n",
       "2                                       Ajinkya Dhariya   \n",
       "3                                         Ritesh Tiwari   \n",
       "4     Ashish Rajan Singh, Harshit Gupta, Nishant Mah...   \n",
       "...                                                 ...   \n",
       "1050                                  Akshay Chaturvedi   \n",
       "1051                    Sujith Narayanan, Sumit Gwalani   \n",
       "1052                          Manish Taneja, Rahul Dash   \n",
       "1053                      Amit Singh, Deepanshu Malviya   \n",
       "1054                     Jayakrishnan, Abhijeet Manohar   \n",
       "\n",
       "                                   Investor     Amount($)       Stage  \\\n",
       "0                           Angel investors     $200,000          NaN   \n",
       "1                           GSF Accelerator     $100,000     Pre-seed   \n",
       "2                            Venture Center             —    Pre-seed   \n",
       "3       Venture Catalysts, PointOne Capital     $400,000          NaN   \n",
       "4       Siana Capital Management, Info Edge     $340,000          NaN   \n",
       "...                                     ...           ...         ...   \n",
       "1050  DSG Consumer Partners, Blume Ventures   $1,500,000          NaN   \n",
       "1051          Sequoia India, Ribbit Capital  $13,200,000   Seed Round   \n",
       "1052                             Verlinvest   $8,000,000          NaN   \n",
       "1053             SIG Global India Fund LLP.   $8,043,000     Series C   \n",
       "1054                      Chiratae Ventures   $9,000,000     Series A   \n",
       "\n",
       "     Unnamed: 9  Funding_year  \n",
       "0           NaN          2020  \n",
       "1           NaN          2020  \n",
       "2           NaN          2020  \n",
       "3           NaN          2020  \n",
       "4           NaN          2020  \n",
       "...         ...           ...  \n",
       "1050        NaN          2020  \n",
       "1051        NaN          2020  \n",
       "1052        NaN          2020  \n",
       "1053        NaN          2020  \n",
       "1054        NaN          2020  \n",
       "\n",
       "[1055 rows x 11 columns]"
      ]
     },
     "execution_count": 11,
     "metadata": {},
     "output_type": "execute_result"
    }
   ],
   "source": [
    "data_2020"
   ]
  },
  {
   "cell_type": "code",
   "execution_count": 12,
   "id": "07e99a82",
   "metadata": {
    "scrolled": false
   },
   "outputs": [
    {
     "data": {
      "text/html": [
       "<div>\n",
       "<style scoped>\n",
       "    .dataframe tbody tr th:only-of-type {\n",
       "        vertical-align: middle;\n",
       "    }\n",
       "\n",
       "    .dataframe tbody tr th {\n",
       "        vertical-align: top;\n",
       "    }\n",
       "\n",
       "    .dataframe thead th {\n",
       "        text-align: right;\n",
       "    }\n",
       "</style>\n",
       "<table border=\"1\" class=\"dataframe\">\n",
       "  <thead>\n",
       "    <tr style=\"text-align: right;\">\n",
       "      <th></th>\n",
       "      <th>Company/Brand</th>\n",
       "      <th>Founded</th>\n",
       "      <th>HeadQuarter</th>\n",
       "      <th>Sector</th>\n",
       "      <th>What it does</th>\n",
       "      <th>Founders</th>\n",
       "      <th>Investor</th>\n",
       "      <th>Amount($)</th>\n",
       "      <th>Stage</th>\n",
       "      <th>Funding_year</th>\n",
       "    </tr>\n",
       "  </thead>\n",
       "  <tbody>\n",
       "    <tr>\n",
       "      <th>0</th>\n",
       "      <td>Unbox Robotics</td>\n",
       "      <td>2019.0</td>\n",
       "      <td>Bangalore</td>\n",
       "      <td>AI startup</td>\n",
       "      <td>Unbox Robotics builds on-demand AI-driven ware...</td>\n",
       "      <td>Pramod Ghadge, Shahid Memon</td>\n",
       "      <td>BEENEXT, Entrepreneur First</td>\n",
       "      <td>$1,200,000</td>\n",
       "      <td>Pre-series A</td>\n",
       "      <td>2021</td>\n",
       "    </tr>\n",
       "    <tr>\n",
       "      <th>1</th>\n",
       "      <td>upGrad</td>\n",
       "      <td>2015.0</td>\n",
       "      <td>Mumbai</td>\n",
       "      <td>EdTech</td>\n",
       "      <td>UpGrad is an online higher education platform.</td>\n",
       "      <td>Mayank Kumar, Phalgun Kompalli, Ravijot Chugh,...</td>\n",
       "      <td>Unilazer Ventures, IIFL Asset Management</td>\n",
       "      <td>$120,000,000</td>\n",
       "      <td>NaN</td>\n",
       "      <td>2021</td>\n",
       "    </tr>\n",
       "    <tr>\n",
       "      <th>2</th>\n",
       "      <td>Lead School</td>\n",
       "      <td>2012.0</td>\n",
       "      <td>Mumbai</td>\n",
       "      <td>EdTech</td>\n",
       "      <td>LEAD School offers technology based school tra...</td>\n",
       "      <td>Smita Deorah, Sumeet Mehta</td>\n",
       "      <td>GSV Ventures, Westbridge Capital</td>\n",
       "      <td>$30,000,000</td>\n",
       "      <td>Series D</td>\n",
       "      <td>2021</td>\n",
       "    </tr>\n",
       "    <tr>\n",
       "      <th>3</th>\n",
       "      <td>Bizongo</td>\n",
       "      <td>2015.0</td>\n",
       "      <td>Mumbai</td>\n",
       "      <td>B2B E-commerce</td>\n",
       "      <td>Bizongo is a business-to-business online marke...</td>\n",
       "      <td>Aniket Deb, Ankit Tomar, Sachin Agrawal</td>\n",
       "      <td>CDC Group, IDG Capital</td>\n",
       "      <td>$51,000,000</td>\n",
       "      <td>Series C</td>\n",
       "      <td>2021</td>\n",
       "    </tr>\n",
       "    <tr>\n",
       "      <th>4</th>\n",
       "      <td>FypMoney</td>\n",
       "      <td>2021.0</td>\n",
       "      <td>Gurugram</td>\n",
       "      <td>FinTech</td>\n",
       "      <td>FypMoney is Digital NEO Bank for Teenagers, em...</td>\n",
       "      <td>Kapil Banwari</td>\n",
       "      <td>Liberatha Kallat, Mukesh Yadav, Dinesh Nagpal</td>\n",
       "      <td>$2,000,000</td>\n",
       "      <td>Seed</td>\n",
       "      <td>2021</td>\n",
       "    </tr>\n",
       "    <tr>\n",
       "      <th>...</th>\n",
       "      <td>...</td>\n",
       "      <td>...</td>\n",
       "      <td>...</td>\n",
       "      <td>...</td>\n",
       "      <td>...</td>\n",
       "      <td>...</td>\n",
       "      <td>...</td>\n",
       "      <td>...</td>\n",
       "      <td>...</td>\n",
       "      <td>...</td>\n",
       "    </tr>\n",
       "    <tr>\n",
       "      <th>1204</th>\n",
       "      <td>Gigforce</td>\n",
       "      <td>2019.0</td>\n",
       "      <td>Gurugram</td>\n",
       "      <td>Staffing &amp; Recruiting</td>\n",
       "      <td>A gig/on-demand staffing company.</td>\n",
       "      <td>Chirag Mittal, Anirudh Syal</td>\n",
       "      <td>Endiya Partners</td>\n",
       "      <td>$3,000,000</td>\n",
       "      <td>Pre-series A</td>\n",
       "      <td>2021</td>\n",
       "    </tr>\n",
       "    <tr>\n",
       "      <th>1205</th>\n",
       "      <td>Vahdam</td>\n",
       "      <td>2015.0</td>\n",
       "      <td>New Delhi</td>\n",
       "      <td>Food &amp; Beverages</td>\n",
       "      <td>VAHDAM is among the world’s first vertically i...</td>\n",
       "      <td>Bala Sarda</td>\n",
       "      <td>IIFL AMC</td>\n",
       "      <td>$20,000,000</td>\n",
       "      <td>Series D</td>\n",
       "      <td>2021</td>\n",
       "    </tr>\n",
       "    <tr>\n",
       "      <th>1206</th>\n",
       "      <td>Leap Finance</td>\n",
       "      <td>2019.0</td>\n",
       "      <td>Bangalore</td>\n",
       "      <td>Financial Services</td>\n",
       "      <td>International education loans for high potenti...</td>\n",
       "      <td>Arnav Kumar, Vaibhav Singh</td>\n",
       "      <td>Owl Ventures</td>\n",
       "      <td>$55,000,000</td>\n",
       "      <td>Series C</td>\n",
       "      <td>2021</td>\n",
       "    </tr>\n",
       "    <tr>\n",
       "      <th>1207</th>\n",
       "      <td>CollegeDekho</td>\n",
       "      <td>2015.0</td>\n",
       "      <td>Gurugram</td>\n",
       "      <td>EdTech</td>\n",
       "      <td>Collegedekho.com is Student’s Partner, Friend ...</td>\n",
       "      <td>Ruchir Arora</td>\n",
       "      <td>Winter Capital, ETS, Man Capital</td>\n",
       "      <td>$26,000,000</td>\n",
       "      <td>Series B</td>\n",
       "      <td>2021</td>\n",
       "    </tr>\n",
       "    <tr>\n",
       "      <th>1208</th>\n",
       "      <td>WeRize</td>\n",
       "      <td>2019.0</td>\n",
       "      <td>Bangalore</td>\n",
       "      <td>Financial Services</td>\n",
       "      <td>India’s first socially distributed full stack ...</td>\n",
       "      <td>Vishal Chopra, Himanshu Gupta</td>\n",
       "      <td>3one4 Capital, Kalaari Capital</td>\n",
       "      <td>$8,000,000</td>\n",
       "      <td>Series A</td>\n",
       "      <td>2021</td>\n",
       "    </tr>\n",
       "  </tbody>\n",
       "</table>\n",
       "<p>1209 rows × 10 columns</p>\n",
       "</div>"
      ],
      "text/plain": [
       "       Company/Brand  Founded HeadQuarter                 Sector  \\\n",
       "0     Unbox Robotics   2019.0   Bangalore             AI startup   \n",
       "1             upGrad   2015.0      Mumbai                 EdTech   \n",
       "2        Lead School   2012.0      Mumbai                 EdTech   \n",
       "3            Bizongo   2015.0      Mumbai         B2B E-commerce   \n",
       "4           FypMoney   2021.0    Gurugram                FinTech   \n",
       "...              ...      ...         ...                    ...   \n",
       "1204        Gigforce   2019.0    Gurugram  Staffing & Recruiting   \n",
       "1205          Vahdam   2015.0   New Delhi       Food & Beverages   \n",
       "1206    Leap Finance   2019.0   Bangalore     Financial Services   \n",
       "1207    CollegeDekho   2015.0    Gurugram                 EdTech   \n",
       "1208          WeRize   2019.0   Bangalore     Financial Services   \n",
       "\n",
       "                                           What it does  \\\n",
       "0     Unbox Robotics builds on-demand AI-driven ware...   \n",
       "1        UpGrad is an online higher education platform.   \n",
       "2     LEAD School offers technology based school tra...   \n",
       "3     Bizongo is a business-to-business online marke...   \n",
       "4     FypMoney is Digital NEO Bank for Teenagers, em...   \n",
       "...                                                 ...   \n",
       "1204                  A gig/on-demand staffing company.   \n",
       "1205  VAHDAM is among the world’s first vertically i...   \n",
       "1206  International education loans for high potenti...   \n",
       "1207  Collegedekho.com is Student’s Partner, Friend ...   \n",
       "1208  India’s first socially distributed full stack ...   \n",
       "\n",
       "                                               Founders  \\\n",
       "0                           Pramod Ghadge, Shahid Memon   \n",
       "1     Mayank Kumar, Phalgun Kompalli, Ravijot Chugh,...   \n",
       "2                            Smita Deorah, Sumeet Mehta   \n",
       "3               Aniket Deb, Ankit Tomar, Sachin Agrawal   \n",
       "4                                         Kapil Banwari   \n",
       "...                                                 ...   \n",
       "1204                        Chirag Mittal, Anirudh Syal   \n",
       "1205                                         Bala Sarda   \n",
       "1206                         Arnav Kumar, Vaibhav Singh   \n",
       "1207                                       Ruchir Arora   \n",
       "1208                      Vishal Chopra, Himanshu Gupta   \n",
       "\n",
       "                                           Investor      Amount($)  \\\n",
       "0                       BEENEXT, Entrepreneur First    $1,200,000    \n",
       "1          Unilazer Ventures, IIFL Asset Management  $120,000,000    \n",
       "2                  GSV Ventures, Westbridge Capital   $30,000,000    \n",
       "3                            CDC Group, IDG Capital   $51,000,000    \n",
       "4     Liberatha Kallat, Mukesh Yadav, Dinesh Nagpal    $2,000,000    \n",
       "...                                             ...            ...   \n",
       "1204                                Endiya Partners    $3,000,000    \n",
       "1205                                       IIFL AMC   $20,000,000    \n",
       "1206                                   Owl Ventures   $55,000,000    \n",
       "1207               Winter Capital, ETS, Man Capital   $26,000,000    \n",
       "1208                 3one4 Capital, Kalaari Capital    $8,000,000    \n",
       "\n",
       "             Stage  Funding_year  \n",
       "0     Pre-series A          2021  \n",
       "1              NaN          2021  \n",
       "2         Series D          2021  \n",
       "3         Series C          2021  \n",
       "4             Seed          2021  \n",
       "...            ...           ...  \n",
       "1204  Pre-series A          2021  \n",
       "1205      Series D          2021  \n",
       "1206      Series C          2021  \n",
       "1207      Series B          2021  \n",
       "1208      Series A          2021  \n",
       "\n",
       "[1209 rows x 10 columns]"
      ]
     },
     "execution_count": 12,
     "metadata": {},
     "output_type": "execute_result"
    }
   ],
   "source": [
    "data_2021"
   ]
  },
  {
   "cell_type": "markdown",
   "id": "611f97ed",
   "metadata": {},
   "source": [
    "#### Now that we have added column for Funding_year, we can go ahead to merge the data. But before that, we have to check if all the column names tallies for the four dataset by checking the features of the columns"
   ]
  },
  {
   "cell_type": "code",
   "execution_count": 13,
   "id": "a866e272",
   "metadata": {},
   "outputs": [
    {
     "name": "stdout",
     "output_type": "stream",
     "text": [
      "<class 'pandas.core.frame.DataFrame'>\n",
      "RangeIndex: 526 entries, 0 to 525\n",
      "Data columns (total 7 columns):\n",
      " #   Column         Non-Null Count  Dtype \n",
      "---  ------         --------------  ----- \n",
      " 0   Company Name   526 non-null    object\n",
      " 1   Industry       526 non-null    object\n",
      " 2   Round/Series   526 non-null    object\n",
      " 3   Amount         526 non-null    object\n",
      " 4   Location       526 non-null    object\n",
      " 5   About Company  526 non-null    object\n",
      " 6   Funding_year   526 non-null    int64 \n",
      "dtypes: int64(1), object(6)\n",
      "memory usage: 28.9+ KB\n"
     ]
    }
   ],
   "source": [
    "data_2018.info() #Checking column information for 2018 data"
   ]
  },
  {
   "cell_type": "code",
   "execution_count": 14,
   "id": "c3711203",
   "metadata": {
    "scrolled": true
   },
   "outputs": [
    {
     "name": "stdout",
     "output_type": "stream",
     "text": [
      "<class 'pandas.core.frame.DataFrame'>\n",
      "RangeIndex: 89 entries, 0 to 88\n",
      "Data columns (total 10 columns):\n",
      " #   Column         Non-Null Count  Dtype  \n",
      "---  ------         --------------  -----  \n",
      " 0   Company/Brand  89 non-null     object \n",
      " 1   Founded        60 non-null     float64\n",
      " 2   HeadQuarter    70 non-null     object \n",
      " 3   Sector         84 non-null     object \n",
      " 4   What it does   89 non-null     object \n",
      " 5   Founders       86 non-null     object \n",
      " 6   Investor       89 non-null     object \n",
      " 7   Amount($)      89 non-null     object \n",
      " 8   Stage          43 non-null     object \n",
      " 9   Funding_year   89 non-null     int64  \n",
      "dtypes: float64(1), int64(1), object(8)\n",
      "memory usage: 7.1+ KB\n"
     ]
    }
   ],
   "source": [
    "data_2019.info() #Checking column information for 2019 data"
   ]
  },
  {
   "cell_type": "code",
   "execution_count": 15,
   "id": "8268eca5",
   "metadata": {},
   "outputs": [
    {
     "name": "stdout",
     "output_type": "stream",
     "text": [
      "<class 'pandas.core.frame.DataFrame'>\n",
      "RangeIndex: 1055 entries, 0 to 1054\n",
      "Data columns (total 11 columns):\n",
      " #   Column         Non-Null Count  Dtype \n",
      "---  ------         --------------  ----- \n",
      " 0   Company/Brand  1055 non-null   object\n",
      " 1   Founded        843 non-null    object\n",
      " 2   HeadQuarter    961 non-null    object\n",
      " 3   Sector         1042 non-null   object\n",
      " 4   What it does   1055 non-null   object\n",
      " 5   Founders       1043 non-null   object\n",
      " 6   Investor       1017 non-null   object\n",
      " 7   Amount($)      1052 non-null   object\n",
      " 8   Stage          591 non-null    object\n",
      " 9   Unnamed: 9     2 non-null      object\n",
      " 10  Funding_year   1055 non-null   int64 \n",
      "dtypes: int64(1), object(10)\n",
      "memory usage: 90.8+ KB\n"
     ]
    }
   ],
   "source": [
    "data_2020.info() #Checking column information for 2020 data"
   ]
  },
  {
   "cell_type": "code",
   "execution_count": 16,
   "id": "926b1e54",
   "metadata": {},
   "outputs": [
    {
     "name": "stdout",
     "output_type": "stream",
     "text": [
      "<class 'pandas.core.frame.DataFrame'>\n",
      "RangeIndex: 1209 entries, 0 to 1208\n",
      "Data columns (total 10 columns):\n",
      " #   Column         Non-Null Count  Dtype  \n",
      "---  ------         --------------  -----  \n",
      " 0   Company/Brand  1209 non-null   object \n",
      " 1   Founded        1208 non-null   float64\n",
      " 2   HeadQuarter    1208 non-null   object \n",
      " 3   Sector         1209 non-null   object \n",
      " 4   What it does   1209 non-null   object \n",
      " 5   Founders       1205 non-null   object \n",
      " 6   Investor       1143 non-null   object \n",
      " 7   Amount($)      1206 non-null   object \n",
      " 8   Stage          782 non-null    object \n",
      " 9   Funding_year   1209 non-null   int64  \n",
      "dtypes: float64(1), int64(1), object(8)\n",
      "memory usage: 94.6+ KB\n"
     ]
    }
   ],
   "source": [
    "data_2021.info() #Checking column information for 2021 data"
   ]
  },
  {
   "cell_type": "markdown",
   "id": "2ab643a8",
   "metadata": {},
   "source": [
    "#### From the information on the columns above, we can see that the features of the 2018 dataset differs from the remaining years as it has 7 columns and different column names. we can also see that data_2020 has one unnamed column with only two non-null cells. so before we merge the data:\n",
    "- We will drop the unnamed column in data_2020 as it is irrelevant to our study\n",
    "- We will rename the colums for data_2018 to look same as that of 2019,2020 and 2021"
   ]
  },
  {
   "cell_type": "code",
   "execution_count": 17,
   "id": "3fa5734f",
   "metadata": {},
   "outputs": [],
   "source": [
    "#Dropping the unnamed colums in data_2020\n",
    "if 'Unnamed: 9' in data_2020.columns:\n",
    "    data_2020.drop('Unnamed: 9', axis=1, inplace=True)"
   ]
  },
  {
   "cell_type": "code",
   "execution_count": 18,
   "id": "03d6d96e",
   "metadata": {},
   "outputs": [
    {
     "name": "stdout",
     "output_type": "stream",
     "text": [
      "<class 'pandas.core.frame.DataFrame'>\n",
      "RangeIndex: 1055 entries, 0 to 1054\n",
      "Data columns (total 10 columns):\n",
      " #   Column         Non-Null Count  Dtype \n",
      "---  ------         --------------  ----- \n",
      " 0   Company/Brand  1055 non-null   object\n",
      " 1   Founded        843 non-null    object\n",
      " 2   HeadQuarter    961 non-null    object\n",
      " 3   Sector         1042 non-null   object\n",
      " 4   What it does   1055 non-null   object\n",
      " 5   Founders       1043 non-null   object\n",
      " 6   Investor       1017 non-null   object\n",
      " 7   Amount($)      1052 non-null   object\n",
      " 8   Stage          591 non-null    object\n",
      " 9   Funding_year   1055 non-null   int64 \n",
      "dtypes: int64(1), object(9)\n",
      "memory usage: 82.5+ KB\n"
     ]
    }
   ],
   "source": [
    "data_2020.info()  #Checking column information of data_2020 to see if unnamed column has been dropped"
   ]
  },
  {
   "cell_type": "code",
   "execution_count": 19,
   "id": "9c1abc10",
   "metadata": {},
   "outputs": [],
   "source": [
    "#Renaming columns for data_2018\n",
    "data_2018.rename(\n",
    "columns={\"Company Name\": \"Company/Brand\", \"Industry\": \"Sector\", \"Round/Series\": \"Stage\", \"Amount\": \"Amount($)\", \"Location\": \"HeadQuarter\", \"About Company\": \"What it does\"  }\n",
    ",inplace= True)"
   ]
  },
  {
   "cell_type": "code",
   "execution_count": 20,
   "id": "de41c09e",
   "metadata": {
    "scrolled": false
   },
   "outputs": [
    {
     "name": "stdout",
     "output_type": "stream",
     "text": [
      "<class 'pandas.core.frame.DataFrame'>\n",
      "RangeIndex: 526 entries, 0 to 525\n",
      "Data columns (total 7 columns):\n",
      " #   Column         Non-Null Count  Dtype \n",
      "---  ------         --------------  ----- \n",
      " 0   Company/Brand  526 non-null    object\n",
      " 1   Sector         526 non-null    object\n",
      " 2   Stage          526 non-null    object\n",
      " 3   Amount($)      526 non-null    object\n",
      " 4   HeadQuarter    526 non-null    object\n",
      " 5   What it does   526 non-null    object\n",
      " 6   Funding_year   526 non-null    int64 \n",
      "dtypes: int64(1), object(6)\n",
      "memory usage: 28.9+ KB\n"
     ]
    }
   ],
   "source": [
    "data_2018.info() #Viewing data_2018 information to check renamed columns"
   ]
  },
  {
   "cell_type": "markdown",
   "id": "ace126d9",
   "metadata": {},
   "source": [
    "### Merging/ Concatenating data into one file"
   ]
  },
  {
   "cell_type": "code",
   "execution_count": 21,
   "id": "392d8a8b",
   "metadata": {},
   "outputs": [],
   "source": [
    "# Merging all the four dataset\n",
    "columns = [data_2018, data_2019, data_2020, data_2021]\n",
    "data=pd.concat(columns)"
   ]
  },
  {
   "cell_type": "code",
   "execution_count": 22,
   "id": "171343ce",
   "metadata": {
    "scrolled": false
   },
   "outputs": [
    {
     "data": {
      "text/html": [
       "<div>\n",
       "<style scoped>\n",
       "    .dataframe tbody tr th:only-of-type {\n",
       "        vertical-align: middle;\n",
       "    }\n",
       "\n",
       "    .dataframe tbody tr th {\n",
       "        vertical-align: top;\n",
       "    }\n",
       "\n",
       "    .dataframe thead th {\n",
       "        text-align: right;\n",
       "    }\n",
       "</style>\n",
       "<table border=\"1\" class=\"dataframe\">\n",
       "  <thead>\n",
       "    <tr style=\"text-align: right;\">\n",
       "      <th></th>\n",
       "      <th>Company/Brand</th>\n",
       "      <th>Sector</th>\n",
       "      <th>Stage</th>\n",
       "      <th>Amount($)</th>\n",
       "      <th>HeadQuarter</th>\n",
       "      <th>What it does</th>\n",
       "      <th>Funding_year</th>\n",
       "      <th>Founded</th>\n",
       "      <th>Founders</th>\n",
       "      <th>Investor</th>\n",
       "    </tr>\n",
       "  </thead>\n",
       "  <tbody>\n",
       "    <tr>\n",
       "      <th>0</th>\n",
       "      <td>TheCollegeFever</td>\n",
       "      <td>Brand Marketing, Event Promotion, Marketing, S...</td>\n",
       "      <td>Seed</td>\n",
       "      <td>250000</td>\n",
       "      <td>Bangalore, Karnataka, India</td>\n",
       "      <td>TheCollegeFever is a hub for fun, fiesta and f...</td>\n",
       "      <td>2018</td>\n",
       "      <td>NaN</td>\n",
       "      <td>NaN</td>\n",
       "      <td>NaN</td>\n",
       "    </tr>\n",
       "    <tr>\n",
       "      <th>1</th>\n",
       "      <td>Happy Cow Dairy</td>\n",
       "      <td>Agriculture, Farming</td>\n",
       "      <td>Seed</td>\n",
       "      <td>₹40,000,000</td>\n",
       "      <td>Mumbai, Maharashtra, India</td>\n",
       "      <td>A startup which aggregates milk from dairy far...</td>\n",
       "      <td>2018</td>\n",
       "      <td>NaN</td>\n",
       "      <td>NaN</td>\n",
       "      <td>NaN</td>\n",
       "    </tr>\n",
       "    <tr>\n",
       "      <th>2</th>\n",
       "      <td>MyLoanCare</td>\n",
       "      <td>Credit, Financial Services, Lending, Marketplace</td>\n",
       "      <td>Series A</td>\n",
       "      <td>₹65,000,000</td>\n",
       "      <td>Gurgaon, Haryana, India</td>\n",
       "      <td>Leading Online Loans Marketplace in India</td>\n",
       "      <td>2018</td>\n",
       "      <td>NaN</td>\n",
       "      <td>NaN</td>\n",
       "      <td>NaN</td>\n",
       "    </tr>\n",
       "    <tr>\n",
       "      <th>3</th>\n",
       "      <td>PayMe India</td>\n",
       "      <td>Financial Services, FinTech</td>\n",
       "      <td>Angel</td>\n",
       "      <td>2000000</td>\n",
       "      <td>Noida, Uttar Pradesh, India</td>\n",
       "      <td>PayMe India is an innovative FinTech organizat...</td>\n",
       "      <td>2018</td>\n",
       "      <td>NaN</td>\n",
       "      <td>NaN</td>\n",
       "      <td>NaN</td>\n",
       "    </tr>\n",
       "    <tr>\n",
       "      <th>4</th>\n",
       "      <td>Eunimart</td>\n",
       "      <td>E-Commerce Platforms, Retail, SaaS</td>\n",
       "      <td>Seed</td>\n",
       "      <td>—</td>\n",
       "      <td>Hyderabad, Andhra Pradesh, India</td>\n",
       "      <td>Eunimart is a one stop solution for merchants ...</td>\n",
       "      <td>2018</td>\n",
       "      <td>NaN</td>\n",
       "      <td>NaN</td>\n",
       "      <td>NaN</td>\n",
       "    </tr>\n",
       "    <tr>\n",
       "      <th>...</th>\n",
       "      <td>...</td>\n",
       "      <td>...</td>\n",
       "      <td>...</td>\n",
       "      <td>...</td>\n",
       "      <td>...</td>\n",
       "      <td>...</td>\n",
       "      <td>...</td>\n",
       "      <td>...</td>\n",
       "      <td>...</td>\n",
       "      <td>...</td>\n",
       "    </tr>\n",
       "    <tr>\n",
       "      <th>1204</th>\n",
       "      <td>Gigforce</td>\n",
       "      <td>Staffing &amp; Recruiting</td>\n",
       "      <td>Pre-series A</td>\n",
       "      <td>$3,000,000</td>\n",
       "      <td>Gurugram</td>\n",
       "      <td>A gig/on-demand staffing company.</td>\n",
       "      <td>2021</td>\n",
       "      <td>2019.0</td>\n",
       "      <td>Chirag Mittal, Anirudh Syal</td>\n",
       "      <td>Endiya Partners</td>\n",
       "    </tr>\n",
       "    <tr>\n",
       "      <th>1205</th>\n",
       "      <td>Vahdam</td>\n",
       "      <td>Food &amp; Beverages</td>\n",
       "      <td>Series D</td>\n",
       "      <td>$20,000,000</td>\n",
       "      <td>New Delhi</td>\n",
       "      <td>VAHDAM is among the world’s first vertically i...</td>\n",
       "      <td>2021</td>\n",
       "      <td>2015.0</td>\n",
       "      <td>Bala Sarda</td>\n",
       "      <td>IIFL AMC</td>\n",
       "    </tr>\n",
       "    <tr>\n",
       "      <th>1206</th>\n",
       "      <td>Leap Finance</td>\n",
       "      <td>Financial Services</td>\n",
       "      <td>Series C</td>\n",
       "      <td>$55,000,000</td>\n",
       "      <td>Bangalore</td>\n",
       "      <td>International education loans for high potenti...</td>\n",
       "      <td>2021</td>\n",
       "      <td>2019.0</td>\n",
       "      <td>Arnav Kumar, Vaibhav Singh</td>\n",
       "      <td>Owl Ventures</td>\n",
       "    </tr>\n",
       "    <tr>\n",
       "      <th>1207</th>\n",
       "      <td>CollegeDekho</td>\n",
       "      <td>EdTech</td>\n",
       "      <td>Series B</td>\n",
       "      <td>$26,000,000</td>\n",
       "      <td>Gurugram</td>\n",
       "      <td>Collegedekho.com is Student’s Partner, Friend ...</td>\n",
       "      <td>2021</td>\n",
       "      <td>2015.0</td>\n",
       "      <td>Ruchir Arora</td>\n",
       "      <td>Winter Capital, ETS, Man Capital</td>\n",
       "    </tr>\n",
       "    <tr>\n",
       "      <th>1208</th>\n",
       "      <td>WeRize</td>\n",
       "      <td>Financial Services</td>\n",
       "      <td>Series A</td>\n",
       "      <td>$8,000,000</td>\n",
       "      <td>Bangalore</td>\n",
       "      <td>India’s first socially distributed full stack ...</td>\n",
       "      <td>2021</td>\n",
       "      <td>2019.0</td>\n",
       "      <td>Vishal Chopra, Himanshu Gupta</td>\n",
       "      <td>3one4 Capital, Kalaari Capital</td>\n",
       "    </tr>\n",
       "  </tbody>\n",
       "</table>\n",
       "<p>2879 rows × 10 columns</p>\n",
       "</div>"
      ],
      "text/plain": [
       "        Company/Brand                                             Sector  \\\n",
       "0     TheCollegeFever  Brand Marketing, Event Promotion, Marketing, S...   \n",
       "1     Happy Cow Dairy                               Agriculture, Farming   \n",
       "2          MyLoanCare   Credit, Financial Services, Lending, Marketplace   \n",
       "3         PayMe India                        Financial Services, FinTech   \n",
       "4            Eunimart                 E-Commerce Platforms, Retail, SaaS   \n",
       "...               ...                                                ...   \n",
       "1204         Gigforce                              Staffing & Recruiting   \n",
       "1205           Vahdam                                   Food & Beverages   \n",
       "1206     Leap Finance                                 Financial Services   \n",
       "1207     CollegeDekho                                             EdTech   \n",
       "1208           WeRize                                 Financial Services   \n",
       "\n",
       "             Stage     Amount($)                       HeadQuarter  \\\n",
       "0             Seed        250000       Bangalore, Karnataka, India   \n",
       "1             Seed   ₹40,000,000        Mumbai, Maharashtra, India   \n",
       "2         Series A   ₹65,000,000           Gurgaon, Haryana, India   \n",
       "3            Angel       2000000       Noida, Uttar Pradesh, India   \n",
       "4             Seed             —  Hyderabad, Andhra Pradesh, India   \n",
       "...            ...           ...                               ...   \n",
       "1204  Pre-series A   $3,000,000                           Gurugram   \n",
       "1205      Series D  $20,000,000                          New Delhi   \n",
       "1206      Series C  $55,000,000                          Bangalore   \n",
       "1207      Series B  $26,000,000                           Gurugram   \n",
       "1208      Series A   $8,000,000                          Bangalore   \n",
       "\n",
       "                                           What it does  Funding_year Founded  \\\n",
       "0     TheCollegeFever is a hub for fun, fiesta and f...          2018     NaN   \n",
       "1     A startup which aggregates milk from dairy far...          2018     NaN   \n",
       "2             Leading Online Loans Marketplace in India          2018     NaN   \n",
       "3     PayMe India is an innovative FinTech organizat...          2018     NaN   \n",
       "4     Eunimart is a one stop solution for merchants ...          2018     NaN   \n",
       "...                                                 ...           ...     ...   \n",
       "1204                  A gig/on-demand staffing company.          2021  2019.0   \n",
       "1205  VAHDAM is among the world’s first vertically i...          2021  2015.0   \n",
       "1206  International education loans for high potenti...          2021  2019.0   \n",
       "1207  Collegedekho.com is Student’s Partner, Friend ...          2021  2015.0   \n",
       "1208  India’s first socially distributed full stack ...          2021  2019.0   \n",
       "\n",
       "                           Founders                          Investor  \n",
       "0                               NaN                               NaN  \n",
       "1                               NaN                               NaN  \n",
       "2                               NaN                               NaN  \n",
       "3                               NaN                               NaN  \n",
       "4                               NaN                               NaN  \n",
       "...                             ...                               ...  \n",
       "1204    Chirag Mittal, Anirudh Syal                   Endiya Partners  \n",
       "1205                     Bala Sarda                          IIFL AMC  \n",
       "1206     Arnav Kumar, Vaibhav Singh                      Owl Ventures  \n",
       "1207                   Ruchir Arora  Winter Capital, ETS, Man Capital  \n",
       "1208  Vishal Chopra, Himanshu Gupta    3one4 Capital, Kalaari Capital  \n",
       "\n",
       "[2879 rows x 10 columns]"
      ]
     },
     "execution_count": 22,
     "metadata": {},
     "output_type": "execute_result"
    }
   ],
   "source": [
    "data # Printing data to check concatenated data"
   ]
  },
  {
   "cell_type": "markdown",
   "id": "6cc8d4d7",
   "metadata": {},
   "source": [
    "###### After visualising the concatenated data, it was realised that the data has a total of 2879 rows, but the last row in the data has an index 1208. This may be as a result of the rows maintaining the index from the precious unmerged datasets. So let us employ value count for the index to check duplicat indexes."
   ]
  },
  {
   "cell_type": "code",
   "execution_count": 23,
   "id": "2b267cd3",
   "metadata": {
    "scrolled": true
   },
   "outputs": [
    {
     "data": {
      "text/plain": [
       "0     4\n",
       "67    4\n",
       "65    4\n",
       "64    4\n",
       "63    4\n",
       "62    4\n",
       "61    4\n",
       "60    4\n",
       "59    4\n",
       "58    4\n",
       "dtype: int64"
      ]
     },
     "execution_count": 23,
     "metadata": {},
     "output_type": "execute_result"
    }
   ],
   "source": [
    "data.index.value_counts().head(10) # Checking if some indexes are duplicated"
   ]
  },
  {
   "cell_type": "code",
   "execution_count": 24,
   "id": "12179422",
   "metadata": {
    "scrolled": true
   },
   "outputs": [],
   "source": [
    "# Reseting index and dropping the original indexes\n",
    "data.reset_index(drop=True, inplace=True)"
   ]
  },
  {
   "cell_type": "code",
   "execution_count": 25,
   "id": "5bda85b4",
   "metadata": {},
   "outputs": [
    {
     "data": {
      "text/plain": [
       "0       1\n",
       "1934    1\n",
       "1914    1\n",
       "1915    1\n",
       "1916    1\n",
       "1917    1\n",
       "1918    1\n",
       "1919    1\n",
       "1920    1\n",
       "1921    1\n",
       "dtype: int64"
      ]
     },
     "execution_count": 25,
     "metadata": {},
     "output_type": "execute_result"
    }
   ],
   "source": [
    "data.index.value_counts().head(10) # Checking to see if duplicate indexes are dropped"
   ]
  },
  {
   "cell_type": "markdown",
   "id": "754ba1e0",
   "metadata": {},
   "source": [
    "### Visualizing the features of the Data/ columns"
   ]
  },
  {
   "cell_type": "code",
   "execution_count": 26,
   "id": "f010e360",
   "metadata": {},
   "outputs": [
    {
     "name": "stdout",
     "output_type": "stream",
     "text": [
      "Data contains 2879 rows and 10 columns\n"
     ]
    }
   ],
   "source": [
    "print('Data contains',data.shape[0],'rows and',data.shape[1],'columns',sep=' ')  "
   ]
  },
  {
   "cell_type": "code",
   "execution_count": 27,
   "id": "f8d4aeb9",
   "metadata": {
    "scrolled": true
   },
   "outputs": [
    {
     "name": "stdout",
     "output_type": "stream",
     "text": [
      "<class 'pandas.core.frame.DataFrame'>\n",
      "RangeIndex: 2879 entries, 0 to 2878\n",
      "Data columns (total 10 columns):\n",
      " #   Column         Non-Null Count  Dtype \n",
      "---  ------         --------------  ----- \n",
      " 0   Company/Brand  2879 non-null   object\n",
      " 1   Sector         2861 non-null   object\n",
      " 2   Stage          1942 non-null   object\n",
      " 3   Amount($)      2873 non-null   object\n",
      " 4   HeadQuarter    2765 non-null   object\n",
      " 5   What it does   2879 non-null   object\n",
      " 6   Funding_year   2879 non-null   int64 \n",
      " 7   Founded        2111 non-null   object\n",
      " 8   Founders       2334 non-null   object\n",
      " 9   Investor       2249 non-null   object\n",
      "dtypes: int64(1), object(9)\n",
      "memory usage: 225.0+ KB\n",
      "None\n"
     ]
    }
   ],
   "source": [
    "print(data.info())"
   ]
  },
  {
   "cell_type": "markdown",
   "id": "85f6ee41",
   "metadata": {},
   "source": [
    "From the above output, we can observe that all the data has missing values except 3 columns. So in the data cleaning process, we may choose to fill those missing values with some methods, or ignore them if necessary."
   ]
  },
  {
   "cell_type": "markdown",
   "id": "81170c37",
   "metadata": {},
   "source": [
    "### Features Description"
   ]
  },
  {
   "cell_type": "markdown",
   "id": "a8931d1d",
   "metadata": {},
   "source": [
    "Company/Brand: Name of the company/start-up\n",
    "\n",
    "Sector: Sector of service\n",
    "\n",
    "Stage: Round of funding reached\n",
    "\n",
    "Amount($): Raised fund\n",
    "\n",
    "HeadQuarter: Location of company\n",
    "\n",
    "What it does: Description about Company\n",
    "\n",
    "Funding_year: Year company received funding\n",
    "\n",
    "Founded: Year start-up was founded\n",
    "\n",
    "Founders: Founders of the Company\n",
    "\n",
    "Investor: Investors\n",
    "\n",
    "\n",
    "\n"
   ]
  },
  {
   "cell_type": "markdown",
   "id": "14770d4c",
   "metadata": {},
   "source": [
    "# Data Cleaning"
   ]
  },
  {
   "cell_type": "markdown",
   "id": "daaefbc5",
   "metadata": {},
   "source": [
    "Firstly, let us find out the frequency of missing data in each column along with their percentages."
   ]
  },
  {
   "cell_type": "code",
   "execution_count": 28,
   "id": "e9f2e5f0",
   "metadata": {
    "scrolled": true
   },
   "outputs": [
    {
     "data": {
      "text/html": [
       "<div>\n",
       "<style scoped>\n",
       "    .dataframe tbody tr th:only-of-type {\n",
       "        vertical-align: middle;\n",
       "    }\n",
       "\n",
       "    .dataframe tbody tr th {\n",
       "        vertical-align: top;\n",
       "    }\n",
       "\n",
       "    .dataframe thead th {\n",
       "        text-align: right;\n",
       "    }\n",
       "</style>\n",
       "<table border=\"1\" class=\"dataframe\">\n",
       "  <thead>\n",
       "    <tr style=\"text-align: right;\">\n",
       "      <th></th>\n",
       "      <th>Missing Data</th>\n",
       "      <th>Percentage</th>\n",
       "    </tr>\n",
       "    <tr>\n",
       "      <th>Columns</th>\n",
       "      <th></th>\n",
       "      <th></th>\n",
       "    </tr>\n",
       "  </thead>\n",
       "  <tbody>\n",
       "    <tr>\n",
       "      <th>Stage</th>\n",
       "      <td>937</td>\n",
       "      <td>32.546023</td>\n",
       "    </tr>\n",
       "    <tr>\n",
       "      <th>Founded</th>\n",
       "      <td>768</td>\n",
       "      <td>26.675929</td>\n",
       "    </tr>\n",
       "    <tr>\n",
       "      <th>Investor</th>\n",
       "      <td>630</td>\n",
       "      <td>21.882598</td>\n",
       "    </tr>\n",
       "    <tr>\n",
       "      <th>Founders</th>\n",
       "      <td>545</td>\n",
       "      <td>18.930184</td>\n",
       "    </tr>\n",
       "    <tr>\n",
       "      <th>HeadQuarter</th>\n",
       "      <td>114</td>\n",
       "      <td>3.959708</td>\n",
       "    </tr>\n",
       "    <tr>\n",
       "      <th>Sector</th>\n",
       "      <td>18</td>\n",
       "      <td>0.625217</td>\n",
       "    </tr>\n",
       "    <tr>\n",
       "      <th>Amount($)</th>\n",
       "      <td>6</td>\n",
       "      <td>0.208406</td>\n",
       "    </tr>\n",
       "    <tr>\n",
       "      <th>Company/Brand</th>\n",
       "      <td>0</td>\n",
       "      <td>0.000000</td>\n",
       "    </tr>\n",
       "    <tr>\n",
       "      <th>What it does</th>\n",
       "      <td>0</td>\n",
       "      <td>0.000000</td>\n",
       "    </tr>\n",
       "    <tr>\n",
       "      <th>Funding_year</th>\n",
       "      <td>0</td>\n",
       "      <td>0.000000</td>\n",
       "    </tr>\n",
       "  </tbody>\n",
       "</table>\n",
       "</div>"
      ],
      "text/plain": [
       "               Missing Data  Percentage\n",
       "Columns                                \n",
       "Stage                   937   32.546023\n",
       "Founded                 768   26.675929\n",
       "Investor                630   21.882598\n",
       "Founders                545   18.930184\n",
       "HeadQuarter             114    3.959708\n",
       "Sector                   18    0.625217\n",
       "Amount($)                 6    0.208406\n",
       "Company/Brand             0    0.000000\n",
       "What it does              0    0.000000\n",
       "Funding_year              0    0.000000"
      ]
     },
     "execution_count": 28,
     "metadata": {},
     "output_type": "execute_result"
    }
   ],
   "source": [
    "null_values=pd.isnull(data).sum()\n",
    "columns=null_values.index\n",
    "frequency=null_values.values\n",
    "percentage=(frequency/data.shape[0])*100\n",
    "missing_values=pd.DataFrame({'Columns':columns,'Missing Data':frequency,'Percentage':percentage}).sort_values('Percentage',ascending=False).set_index('Columns')\n",
    "missing_values"
   ]
  },
  {
   "cell_type": "markdown",
   "id": "f03f78e7",
   "metadata": {},
   "source": [
    " ###### Now that we have information about each column, we will begin to clean the data column by column"
   ]
  },
  {
   "cell_type": "markdown",
   "id": "2a24f662",
   "metadata": {},
   "source": [
    "## Stage"
   ]
  },
  {
   "cell_type": "code",
   "execution_count": 29,
   "id": "1d30ccbf",
   "metadata": {},
   "outputs": [
    {
     "data": {
      "text/plain": [
       "count     1942\n",
       "unique      72\n",
       "top       Seed\n",
       "freq       608\n",
       "Name: Stage, dtype: object"
      ]
     },
     "execution_count": 29,
     "metadata": {},
     "output_type": "execute_result"
    }
   ],
   "source": [
    "data['Stage'].describe() # Describing the Stage column"
   ]
  },
  {
   "cell_type": "code",
   "execution_count": 30,
   "id": "5f40ef16",
   "metadata": {},
   "outputs": [
    {
     "name": "stdout",
     "output_type": "stream",
     "text": [
      "Number of unique Stages of funding: 73\n"
     ]
    }
   ],
   "source": [
    "# Checking the number of unique values in Stage column\n",
    "print('Number of unique Stages of funding:',len(data['Stage'].unique()))"
   ]
  },
  {
   "cell_type": "markdown",
   "id": "0dd69433",
   "metadata": {},
   "source": [
    "There are 73 unique  and 937 missing data in the 'Stage' column.\n",
    "1. Since there are many unique values, we have to check if there are repititions resulting from typos, and fix it\n",
    "2. For missing values, We have two options. That is;\n",
    "\n",
    "    - Fill up the missing values as 'Not specified' string\n",
    "    - Do not fill up the missing values\n",
    "    \n",
    "For this analysis, I intend not to fill up the missing values for the Stage column since filling it with 'Not specified' will not have any significant impact on our analysis."
   ]
  },
  {
   "cell_type": "code",
   "execution_count": 31,
   "id": "97048349",
   "metadata": {
    "scrolled": false
   },
   "outputs": [
    {
     "data": {
      "text/plain": [
       "Seed                        608\n",
       "Series A                    305\n",
       "Pre-series A                212\n",
       "Series B                    134\n",
       "Series C                    116\n",
       "Seed Round                   69\n",
       "Pre series A                 62\n",
       "Pre-seed                     58\n",
       "Series D                     50\n",
       "Debt                         45\n",
       "Angel                        37\n",
       "Venture - Series Unknown     37\n",
       "Series E                     30\n",
       "Pre-series B                 14\n",
       "Debt Financing               13\n",
       "Pre Series A                 12\n",
       "Series F                     11\n",
       "Private Equity               10\n",
       "Seed round                   10\n",
       "Bridge                        8\n",
       "Corporate Round               8\n",
       "Pre-Seed                      8\n",
       "Grant                         4\n",
       "Angel Round                   4\n",
       "Series H                      4\n",
       "Pre-series A1                 4\n",
       "Pre seed round                4\n",
       "Post-IPO Equity               3\n",
       "Secondary Market              3\n",
       "Seed funding                  3\n",
       "Name: Stage, dtype: int64"
      ]
     },
     "execution_count": 31,
     "metadata": {},
     "output_type": "execute_result"
    }
   ],
   "source": [
    "# Checking value counts for the unique values in Stage column\n",
    "data['Stage'].value_counts().head(30)"
   ]
  },
  {
   "cell_type": "markdown",
   "id": "838f51f3",
   "metadata": {},
   "source": [
    "From the Value count of our unique values, we can see that there are some repititions of stages. So lets work on the few of them that can impact our TOP 10 unique stages of funding"
   ]
  },
  {
   "cell_type": "code",
   "execution_count": 32,
   "id": "be26b8fe",
   "metadata": {},
   "outputs": [],
   "source": [
    "data['Stage']=data['Stage'].replace('Pre series A','Pre-series A') # Fixing typos in \"Pre-series A\"\n",
    "data['Stage']=data['Stage'].replace('Pre Series A','Pre-series A')\n",
    "data['Stage']=data['Stage'].replace('Pre-series A1','Pre-series A')"
   ]
  },
  {
   "cell_type": "code",
   "execution_count": 33,
   "id": "70dc8cfc",
   "metadata": {},
   "outputs": [],
   "source": [
    "data['Stage']=data['Stage'].replace('Seed round','Seed Round') # Fixing typos in \"Seed Round\""
   ]
  },
  {
   "cell_type": "code",
   "execution_count": 34,
   "id": "9bc896f8",
   "metadata": {},
   "outputs": [
    {
     "name": "stdout",
     "output_type": "stream",
     "text": [
      "Number of Unique values are now: 69\n"
     ]
    }
   ],
   "source": [
    "# Checking value counts for the unique values again after fixing typos\n",
    "print('Number of Unique values are now:',len(data['Stage'].unique()))"
   ]
  },
  {
   "cell_type": "markdown",
   "id": "4483d3dd",
   "metadata": {},
   "source": [
    "After fixing the typos that would have a significant change in our TOP 10 Stages column,there are 69 unique values left"
   ]
  },
  {
   "cell_type": "markdown",
   "id": "3b9e36cf",
   "metadata": {},
   "source": [
    "## Founded"
   ]
  },
  {
   "cell_type": "code",
   "execution_count": 35,
   "id": "9f1fdf8b",
   "metadata": {},
   "outputs": [
    {
     "data": {
      "text/plain": [
       "count     2111.0\n",
       "unique      57.0\n",
       "top       2020.0\n",
       "freq       237.0\n",
       "Name: Founded, dtype: float64"
      ]
     },
     "execution_count": 35,
     "metadata": {},
     "output_type": "execute_result"
    }
   ],
   "source": [
    "data['Founded'].describe() # Describing the Founded column\n"
   ]
  },
  {
   "cell_type": "markdown",
   "id": "392e473c",
   "metadata": {},
   "source": [
    "Though ther are some cleaning to make at \"Founded\" column, but since this column will not be relevant in answering our hypothesis or research questions, we may choose to remove it from the dataset and focus on working on the remaining columns that are relevant to our analysis"
   ]
  },
  {
   "cell_type": "code",
   "execution_count": 36,
   "id": "6c389859",
   "metadata": {},
   "outputs": [],
   "source": [
    "data.drop(columns=['Founded'], inplace=True) # Dropping Founded column from dataset"
   ]
  },
  {
   "cell_type": "markdown",
   "id": "e4c9c1cf",
   "metadata": {},
   "source": [
    "## Investor"
   ]
  },
  {
   "cell_type": "code",
   "execution_count": 37,
   "id": "b1675923",
   "metadata": {},
   "outputs": [
    {
     "data": {
      "text/plain": [
       "count                          2249\n",
       "unique                         1774\n",
       "top       Inflection Point Ventures\n",
       "freq                             36\n",
       "Name: Investor, dtype: object"
      ]
     },
     "execution_count": 37,
     "metadata": {},
     "output_type": "execute_result"
    }
   ],
   "source": [
    "data['Investor'].describe() # Describing the Investor column"
   ]
  },
  {
   "cell_type": "code",
   "execution_count": 38,
   "id": "b47c0bdf",
   "metadata": {},
   "outputs": [
    {
     "data": {
      "text/plain": [
       "Inflection Point Ventures                        36\n",
       "Venture Catalysts                                32\n",
       "Mumbai Angels Network                            17\n",
       "Angel investors                                  15\n",
       "Undisclosed                                      13\n",
       "Tiger Global                                     12\n",
       "Titan Capital                                    11\n",
       "Unicorn India Ventures                           10\n",
       "Alteria Capital                                   9\n",
       "Sequoia Capital India                             9\n",
       "Better Capital                                    9\n",
       "Trifecta Capital                                  8\n",
       "9Unicorns                                         7\n",
       "Elevation Capital                                 7\n",
       "Y Combinator                                      7\n",
       "Chiratae Ventures                                 6\n",
       "Nexus Venture Partners                            6\n",
       "Sixth Sense Ventures                              6\n",
       "Anicut Angel Fund                                 6\n",
       "Kalaari Capital                                   6\n",
       "Sequoia India                                     6\n",
       "We Founder Circle                                 6\n",
       "Venture Catalysts, 9Unicorns Accelerator Fund     5\n",
       "Jungle Ventures                                   4\n",
       "Indian Angel Network                              4\n",
       "SucSEED Indovation Fund                           4\n",
       "Accel                                             4\n",
       "Pegasus Tech Ventures, Base Partners              4\n",
       "India Accelerator                                 4\n",
       "Blue Ashva Capital                                4\n",
       "Name: Investor, dtype: int64"
      ]
     },
     "execution_count": 38,
     "metadata": {},
     "output_type": "execute_result"
    }
   ],
   "source": [
    "# Checking how many times an Investor funded a startup\n",
    "data['Investor'].value_counts().head(30)"
   ]
  },
  {
   "cell_type": "markdown",
   "id": "0ae83dbe",
   "metadata": {},
   "source": [
    "- 'Investor' names have 626 missing values and 1774 unique values, so we will fill the missing rows with value 'Undisclosed Investors'\n",
    "- Also there are several spellings for undisclosed investors, and Sequoia Capital, and Mumbai Angels. So let's clean that up by a function."
   ]
  },
  {
   "cell_type": "code",
   "execution_count": 39,
   "id": "2065ecba",
   "metadata": {},
   "outputs": [],
   "source": [
    "data['Investor'].fillna(value='Undisclosed Investors',inplace=True)"
   ]
  },
  {
   "cell_type": "code",
   "execution_count": 40,
   "id": "f444e013",
   "metadata": {},
   "outputs": [],
   "source": [
    "# Creating a function to cleanup different spellings of Undisclosed Investors and Sequoia Capital and Mumbai Angels\n",
    "def investors_cleaner(x):\n",
    "    b=str(x).lower()\n",
    "    if 'undisclosed' in b:\n",
    "        return 'Undisclosed Investors'\n",
    "    if 'sequoia' in b:\n",
    "        return 'Sequoia Capital'\n",
    "    if 'mumbai angels' in b:\n",
    "        return 'Mumbai Angels Network'\n",
    "        \n",
    "    else:\n",
    "        return x"
   ]
  },
  {
   "cell_type": "code",
   "execution_count": 41,
   "id": "7a1f7d49",
   "metadata": {},
   "outputs": [],
   "source": [
    "# Applying function to data\n",
    "data['Investor']=data['Investor'].apply(investors_cleaner)"
   ]
  },
  {
   "cell_type": "code",
   "execution_count": 42,
   "id": "d9ddf4af",
   "metadata": {},
   "outputs": [
    {
     "data": {
      "text/plain": [
       "Undisclosed Investors        644\n",
       "Sequoia Capital               96\n",
       "Inflection Point Ventures     36\n",
       "Mumbai Angels Network         35\n",
       "Venture Catalysts             32\n",
       "Angel investors               15\n",
       "Tiger Global                  12\n",
       "Titan Capital                 11\n",
       "Unicorn India Ventures        10\n",
       "Better Capital                 9\n",
       "Name: Investor, dtype: int64"
      ]
     },
     "execution_count": 42,
     "metadata": {},
     "output_type": "execute_result"
    }
   ],
   "source": [
    "# Checking how cleaning process has effected the value_counts of the 'Investor' column\n",
    "data['Investor'].value_counts().head(10)"
   ]
  },
  {
   "cell_type": "markdown",
   "id": "63e8dfdf",
   "metadata": {},
   "source": [
    "## Founders"
   ]
  },
  {
   "cell_type": "code",
   "execution_count": 43,
   "id": "134fbb10",
   "metadata": {},
   "outputs": [
    {
     "data": {
      "text/plain": [
       "count                2334\n",
       "unique               1980\n",
       "top       Byju Raveendran\n",
       "freq                    7\n",
       "Name: Founders, dtype: object"
      ]
     },
     "execution_count": 43,
     "metadata": {},
     "output_type": "execute_result"
    }
   ],
   "source": [
    "data['Founders'].describe() # Describing the Founders column"
   ]
  },
  {
   "cell_type": "markdown",
   "id": "5a01e7c2",
   "metadata": {},
   "source": [
    "The \"Founders\" column will not be relevant in answering our hypothesis or research questions, we may choose to remove it from the dataset and focus on working on the remaining columns that are relevant to our analysis"
   ]
  },
  {
   "cell_type": "code",
   "execution_count": 44,
   "id": "7c6b3108",
   "metadata": {},
   "outputs": [],
   "source": [
    "data.drop(columns=['Founders'], inplace=True) # Dropping Founders column from dataset"
   ]
  },
  {
   "cell_type": "markdown",
   "id": "f4816a71",
   "metadata": {},
   "source": [
    "## HeadQuarter"
   ]
  },
  {
   "cell_type": "code",
   "execution_count": 45,
   "id": "82487cff",
   "metadata": {},
   "outputs": [
    {
     "data": {
      "text/plain": [
       "(114, 8)"
      ]
     },
     "execution_count": 45,
     "metadata": {},
     "output_type": "execute_result"
    }
   ],
   "source": [
    "data[data['HeadQuarter'].isnull()].shape #Checking the null values in the 'HeadQuarter' column"
   ]
  },
  {
   "cell_type": "markdown",
   "id": "eee65873",
   "metadata": {},
   "source": [
    "There are 114 missing values for HeadQuarters. The missing values/cities can be filled with \"Not Specified\""
   ]
  },
  {
   "cell_type": "code",
   "execution_count": 46,
   "id": "eccdfa48",
   "metadata": {},
   "outputs": [],
   "source": [
    "# Filling the missing values with 'Not Specified'\n",
    "data['HeadQuarter'].fillna(value='Not Specified',inplace=True)"
   ]
  },
  {
   "cell_type": "code",
   "execution_count": 47,
   "id": "f00af14b",
   "metadata": {},
   "outputs": [
    {
     "data": {
      "text/plain": [
       "Bangalore                      764\n",
       "Mumbai                         380\n",
       "Gurugram                       239\n",
       "New Delhi                      181\n",
       "Not Specified                  114\n",
       "Bangalore, Karnataka, India    102\n",
       "Mumbai, Maharashtra, India      94\n",
       "Chennai                         87\n",
       "Pune                            85\n",
       "Delhi                           72\n",
       "Noida                           71\n",
       "Hyderabad                       60\n",
       "Bengaluru, Karnataka, India     55\n",
       "Gurgaon, Haryana, India         52\n",
       "New Delhi, Delhi, India         51\n",
       "Gurgaon                         28\n",
       "Ahmedabad                       23\n",
       "Pune, Maharashtra, India        20\n",
       "Chennai, Tamil Nadu, India      19\n",
       "Jaipur                          19\n",
       "Name: HeadQuarter, dtype: int64"
      ]
     },
     "execution_count": 47,
     "metadata": {},
     "output_type": "execute_result"
    }
   ],
   "source": [
    "# Checking how many times a stratup is located in a particular city/location\n",
    "data['HeadQuarter'].value_counts().head(20)"
   ]
  },
  {
   "cell_type": "markdown",
   "id": "237e3456",
   "metadata": {},
   "source": [
    "Now when we observe the unique values in 'HeadQuarter' closely, we can see that there are some repetitions in the cities which is as a result of entry differences. Eg:\n",
    "- 'Bangalore' is same as 'Bangalore, Karnataka, India'\n",
    "- 'Mumbai' is same as 'Mumbai, Maharashtra, India'\n",
    "- 'Gurugram' is same as 'Gurgaon, Haryana, India'\n",
    "- 'Chennai' is same as 'Chennai, Tamil Nadu, India'\n",
    "\n",
    "So we can create a function to check these entries and replace entries separated by \",\" with first city names"
   ]
  },
  {
   "cell_type": "code",
   "execution_count": 48,
   "id": "3eb4289b",
   "metadata": {},
   "outputs": [],
   "source": [
    "# Creating a function to check multiple city entries\n",
    "def HQ_cleaner(x):\n",
    "    return x.split(',')[0].strip()"
   ]
  },
  {
   "cell_type": "code",
   "execution_count": 49,
   "id": "6d1a9cc4",
   "metadata": {},
   "outputs": [],
   "source": [
    "# Applying function to our 'HeadQuarter' column\n",
    "data['HeadQuarter']=data['HeadQuarter'].apply(HQ_cleaner)"
   ]
  },
  {
   "cell_type": "markdown",
   "id": "64976a26",
   "metadata": {},
   "source": [
    "Also we can see that there are multiple entries as a result of change in some city names\n",
    "- 'Bengaluru' is same as 'Bangalore'\n",
    "- 'Gurgaon' is same as 'Gurugram'\n",
    "\n",
    "So we will replace the old city names with new names"
   ]
  },
  {
   "cell_type": "code",
   "execution_count": 50,
   "id": "96310ccc",
   "metadata": {},
   "outputs": [],
   "source": [
    "data['HeadQuarter']=data['HeadQuarter'].replace('Gurgaon','Gurugram') # Replacing 'Gurgaon' with 'Gurugram'\n",
    "data['HeadQuarter']=data['HeadQuarter'].replace('Bengaluru','Bangalore') #Replacing 'Bengaluru' with 'Bangalore'"
   ]
  },
  {
   "cell_type": "code",
   "execution_count": 51,
   "id": "4b3e51eb",
   "metadata": {},
   "outputs": [
    {
     "data": {
      "text/plain": [
       "Bangalore        923\n",
       "Mumbai           474\n",
       "Gurugram         319\n",
       "New Delhi        232\n",
       "Not Specified    114\n",
       "Chennai          106\n",
       "Pune             105\n",
       "Delhi             88\n",
       "Noida             86\n",
       "Hyderabad         78\n",
       "Jaipur            31\n",
       "Ahmedabad         29\n",
       "Haryana           26\n",
       "Kolkata           22\n",
       "Indore            14\n",
       "Name: HeadQuarter, dtype: int64"
      ]
     },
     "execution_count": 51,
     "metadata": {},
     "output_type": "execute_result"
    }
   ],
   "source": [
    "#Checking how our cleaning process has impacted the value_counts of the 'HeadQuarter' column\n",
    "data['HeadQuarter'].value_counts().head(15)"
   ]
  },
  {
   "cell_type": "markdown",
   "id": "2ccd5ed0",
   "metadata": {},
   "source": [
    "## Sector"
   ]
  },
  {
   "cell_type": "code",
   "execution_count": 52,
   "id": "bb3dcd5b",
   "metadata": {},
   "outputs": [
    {
     "data": {
      "text/plain": [
       "(18, 8)"
      ]
     },
     "execution_count": 52,
     "metadata": {},
     "output_type": "execute_result"
    }
   ],
   "source": [
    "# Checking the null values in 'Sector' column\n",
    "data[data['Sector'].isnull()].shape"
   ]
  },
  {
   "cell_type": "code",
   "execution_count": 53,
   "id": "08a264a9",
   "metadata": {},
   "outputs": [
    {
     "name": "stdout",
     "output_type": "stream",
     "text": [
      "The number of unique values: 873\n"
     ]
    }
   ],
   "source": [
    "# Printing the number of unique values/industries at the 'Sector' column\n",
    "print('The number of unique values:', data['Sector'].nunique())"
   ]
  },
  {
   "cell_type": "code",
   "execution_count": 54,
   "id": "28325d41",
   "metadata": {
    "scrolled": true
   },
   "outputs": [
    {
     "data": {
      "text/plain": [
       "FinTech               173\n",
       "EdTech                142\n",
       "Fintech                85\n",
       "Financial Services     77\n",
       "Edtech                 74\n",
       "E-commerce             73\n",
       "AgriTech               43\n",
       "Food & Beverages       39\n",
       "Automotive             39\n",
       "Healthcare             36\n",
       "Name: Sector, dtype: int64"
      ]
     },
     "execution_count": 54,
     "metadata": {},
     "output_type": "execute_result"
    }
   ],
   "source": [
    "# Checking the value count of the unique values at the 'Sector' column\n",
    "data['Sector'].value_counts().head(10)"
   ]
  },
  {
   "cell_type": "markdown",
   "id": "318d8ee9",
   "metadata": {},
   "source": [
    "- Sector has 18 null values and 873 unique values. So we will fill thE missing values with 'Unknown'.\n",
    "- Also there are some duplicate values with different capitalization. To fix this, we will convert all to lowercase"
   ]
  },
  {
   "cell_type": "code",
   "execution_count": 55,
   "id": "048dad79",
   "metadata": {},
   "outputs": [],
   "source": [
    "data['Sector'].fillna('Unknown',inplace=True) # filling missing values in Sector with 'Unknown'\n",
    "data['Sector']=data['Sector'].str.replace('—', 'Unknown') #Replacing '—' value in Sector with 'Unknown'"
   ]
  },
  {
   "cell_type": "code",
   "execution_count": 56,
   "id": "3e036f29",
   "metadata": {},
   "outputs": [],
   "source": [
    "# converting all entries to lowercase to fix duplicate sectors\n",
    "data['Sector']=data['Sector'].apply(lambda x: x.lower())"
   ]
  },
  {
   "cell_type": "code",
   "execution_count": 57,
   "id": "b78f2377",
   "metadata": {},
   "outputs": [
    {
     "name": "stdout",
     "output_type": "stream",
     "text": [
      "Number of unique values are now: 835\n"
     ]
    }
   ],
   "source": [
    "#Printing the number of unique values after initial clean\n",
    "print('Number of unique values are now:', data['Sector'].nunique())"
   ]
  },
  {
   "cell_type": "code",
   "execution_count": 58,
   "id": "b9de73fc",
   "metadata": {},
   "outputs": [
    {
     "data": {
      "text/plain": [
       "fintech                              258\n",
       "edtech                               216\n",
       "financial services                    77\n",
       "e-commerce                            75\n",
       "healthcare                            67\n",
       "agritech                              62\n",
       "healthtech                            60\n",
       "unknown                               48\n",
       "food & beverages                      39\n",
       "automotive                            39\n",
       "information technology & services     36\n",
       "gaming                                35\n",
       "logistics                             34\n",
       "computer software                     31\n",
       "saas                                  30\n",
       "e-learning                            28\n",
       "consumer goods                        28\n",
       "tech startup                          28\n",
       "saas startup                          28\n",
       "media                                 27\n",
       "Name: Sector, dtype: int64"
      ]
     },
     "execution_count": 58,
     "metadata": {},
     "output_type": "execute_result"
    }
   ],
   "source": [
    "# Checking the value count of the unique values after applying our initial cleaning process\n",
    "data['Sector'].value_counts().head(20)"
   ]
  },
  {
   "cell_type": "markdown",
   "id": "19bf2a42",
   "metadata": {},
   "source": [
    "###### Grouping sector  for analysis purpose"
   ]
  },
  {
   "cell_type": "markdown",
   "id": "25801423",
   "metadata": {},
   "source": [
    "From the number of unique values obsereed in the sector column, we can see that the technology sector has been divided into many subcategories. So we will need to identify and group them together for the purpose of this analysis."
   ]
  },
  {
   "cell_type": "code",
   "execution_count": 59,
   "id": "6482b5d2",
   "metadata": {},
   "outputs": [],
   "source": [
    "# creating a variable for 'Technology' related sectors\n",
    "sector_with_tech= data[data['Sector'].str.contains('tech')]"
   ]
  },
  {
   "cell_type": "code",
   "execution_count": 60,
   "id": "8fb3ada0",
   "metadata": {},
   "outputs": [
    {
     "name": "stdout",
     "output_type": "stream",
     "text": [
      "Unique Values: 140\n"
     ]
    }
   ],
   "source": [
    "# Checking the number of unique sectors that contains the keyword 'Tech'\n",
    "print('Unique Values:',sector_with_tech['Sector'].nunique())"
   ]
  },
  {
   "cell_type": "code",
   "execution_count": 61,
   "id": "a2dc1a30",
   "metadata": {
    "scrolled": true
   },
   "outputs": [
    {
     "data": {
      "text/plain": [
       "fintech                              258\n",
       "edtech                               216\n",
       "agritech                              62\n",
       "healthtech                            60\n",
       "information technology & services     36\n",
       "tech startup                          28\n",
       "tech                                  19\n",
       "information technology                17\n",
       "foodtech                              17\n",
       "biotechnology                         13\n",
       "Name: Sector, dtype: int64"
      ]
     },
     "execution_count": 61,
     "metadata": {},
     "output_type": "execute_result"
    }
   ],
   "source": [
    "# Exploring the unique sectors that contain the keyword 'tech' \n",
    "sector_with_tech['Sector'].value_counts().head(10)"
   ]
  },
  {
   "cell_type": "markdown",
   "id": "9d7329a4",
   "metadata": {},
   "source": [
    "Fron the exploration of the 140 unique values with the keyword 'tech', we can observe that all of them fit to be classify as Technology sector. So we will write a function to classsify them to a new Sector 'Technology sector'"
   ]
  },
  {
   "cell_type": "code",
   "execution_count": 62,
   "id": "41f816dd",
   "metadata": {},
   "outputs": [],
   "source": [
    "# Defining a function to classify sector_with_tech values into 'Technology Sector'\n",
    "def sector_clasifier(x):\n",
    "    b=str(x).lower()\n",
    "    if 'tech' in b:\n",
    "        return 'Technology sector'\n",
    "        \n",
    "    else:\n",
    "        return x"
   ]
  },
  {
   "cell_type": "code",
   "execution_count": 63,
   "id": "fb32bd71",
   "metadata": {},
   "outputs": [],
   "source": [
    "# Applying sector_classifier to the 'Sector' column\n",
    "data['Sector']=data['Sector'].apply(sector_clasifier)"
   ]
  },
  {
   "cell_type": "code",
   "execution_count": 64,
   "id": "3d250264",
   "metadata": {},
   "outputs": [
    {
     "name": "stdout",
     "output_type": "stream",
     "text": [
      "Number of unique values are now: 696\n"
     ]
    }
   ],
   "source": [
    "#Printing the number of unique values after final clean\n",
    "print('Number of unique values are now:', data['Sector'].nunique())"
   ]
  },
  {
   "cell_type": "code",
   "execution_count": 65,
   "id": "31b15788",
   "metadata": {},
   "outputs": [
    {
     "data": {
      "text/plain": [
       "Technology sector     952\n",
       "financial services     77\n",
       "e-commerce             75\n",
       "healthcare             67\n",
       "unknown                48\n",
       "food & beverages       39\n",
       "automotive             39\n",
       "gaming                 35\n",
       "logistics              34\n",
       "computer software      31\n",
       "Name: Sector, dtype: int64"
      ]
     },
     "execution_count": 65,
     "metadata": {},
     "output_type": "execute_result"
    }
   ],
   "source": [
    "# Checking the value count of the unique sectors we have after cleaning\n",
    "data['Sector'].value_counts().head(10)"
   ]
  },
  {
   "cell_type": "markdown",
   "id": "83c401b5",
   "metadata": {},
   "source": [
    "## Company/Brand"
   ]
  },
  {
   "cell_type": "code",
   "execution_count": 66,
   "id": "fdce8609",
   "metadata": {},
   "outputs": [
    {
     "data": {
      "text/plain": [
       "count         2879\n",
       "unique        2212\n",
       "top       BharatPe\n",
       "freq            10\n",
       "Name: Company/Brand, dtype: object"
      ]
     },
     "execution_count": 66,
     "metadata": {},
     "output_type": "execute_result"
    }
   ],
   "source": [
    "# Describing the company/Brand column\n",
    "data['Company/Brand'].describe()"
   ]
  },
  {
   "cell_type": "code",
   "execution_count": 67,
   "id": "7d6f619c",
   "metadata": {},
   "outputs": [
    {
     "name": "stdout",
     "output_type": "stream",
     "text": [
      "Number of unique startups funded: 2212\n"
     ]
    }
   ],
   "source": [
    "# Printing the number of unique startups that received funding  \n",
    "print('Number of unique startups funded:',data['Company/Brand'].nunique())"
   ]
  },
  {
   "cell_type": "markdown",
   "id": "3e403d5c",
   "metadata": {},
   "source": [
    "While exploring the data, it was found that there have been separate names for same startups receiving funding at different periods due to difference in spelling capitalization/casing. So we will capitalise all values to be able to find the actual number of unique Company/ brands. \n",
    "\n",
    "*Note that some same Company/Brands received series of funding at different periods, that is why we have lesser 'unique values' than 'Count'*"
   ]
  },
  {
   "cell_type": "code",
   "execution_count": 68,
   "id": "d75890a8",
   "metadata": {},
   "outputs": [],
   "source": [
    "# Capitalizzing all values\n",
    "data['Company/Brand']=data['Company/Brand'].apply(lambda x: x.capitalize())"
   ]
  },
  {
   "cell_type": "code",
   "execution_count": 69,
   "id": "37a9c3e4",
   "metadata": {},
   "outputs": [
    {
     "name": "stdout",
     "output_type": "stream",
     "text": [
      "Actual number of unique startups funded: 2150\n"
     ]
    }
   ],
   "source": [
    "# Printing the actual number of unique startupsthat received funding  \n",
    "print('Actual number of unique startups funded:',data['Company/Brand'].nunique())"
   ]
  },
  {
   "cell_type": "markdown",
   "id": "21c29487",
   "metadata": {},
   "source": [
    "## What it does"
   ]
  },
  {
   "cell_type": "code",
   "execution_count": 70,
   "id": "03fdfd4f",
   "metadata": {},
   "outputs": [
    {
     "name": "stdout",
     "output_type": "stream",
     "text": [
      "Missing Values: 0\n"
     ]
    }
   ],
   "source": [
    "# Printing the number of missing values\n",
    "print('Missing Values:', data[data['What it does'].isnull()].shape[0])"
   ]
  },
  {
   "cell_type": "markdown",
   "id": "27bb4744",
   "metadata": {},
   "source": [
    "This column has no missing value. Also this column will not be relevant to our Analysis looking at the Hypothesis and Questions to answer. so we may choose to drop it or leave it like that. "
   ]
  },
  {
   "cell_type": "markdown",
   "id": "e2a56606",
   "metadata": {},
   "source": [
    "## Amount($)"
   ]
  },
  {
   "cell_type": "markdown",
   "id": "3cad2266",
   "metadata": {},
   "source": [
    "First of all let us explore the amount data"
   ]
  },
  {
   "cell_type": "code",
   "execution_count": 71,
   "id": "6690688e",
   "metadata": {},
   "outputs": [
    {
     "data": {
      "text/plain": [
       "0         250000\n",
       "1    ₹40,000,000\n",
       "2    ₹65,000,000\n",
       "3        2000000\n",
       "4              —\n",
       "5        1600000\n",
       "6    ₹16,000,000\n",
       "7    ₹50,000,000\n",
       "8              —\n",
       "9              —\n",
       "Name: Amount($), dtype: object"
      ]
     },
     "execution_count": 71,
     "metadata": {},
     "output_type": "execute_result"
    }
   ],
   "source": [
    "# Checking the topmost values in the Amount($) column \n",
    "data['Amount($)'].head(10)"
   ]
  },
  {
   "cell_type": "code",
   "execution_count": 72,
   "id": "64fccf46",
   "metadata": {
    "scrolled": false
   },
   "outputs": [
    {
     "data": {
      "text/plain": [
       "2859       $700,000 \n",
       "2860       $200,000 \n",
       "2861     $2,000,000 \n",
       "2862     $2,000,000 \n",
       "2863               —\n",
       "2864       $500,000 \n",
       "2865    $76,000,000 \n",
       "2866     $2,000,000 \n",
       "2867     $1,000,000 \n",
       "2868     $5,000,000 \n",
       "2869     $2,000,000 \n",
       "2870       $200,000 \n",
       "2871       $500,000 \n",
       "2872     $5,000,000 \n",
       "2873     $2,000,000 \n",
       "2874     $3,000,000 \n",
       "2875    $20,000,000 \n",
       "2876    $55,000,000 \n",
       "2877    $26,000,000 \n",
       "2878     $8,000,000 \n",
       "Name: Amount($), dtype: object"
      ]
     },
     "execution_count": 72,
     "metadata": {},
     "output_type": "execute_result"
    }
   ],
   "source": [
    "# Checking the tail values in the Amount($) column \n",
    "data['Amount($)'].tail(20)"
   ]
  },
  {
   "cell_type": "code",
   "execution_count": 73,
   "id": "1422a8ec",
   "metadata": {
    "scrolled": true
   },
   "outputs": [
    {
     "data": {
      "text/plain": [
       "<class 'str'>      2873\n",
       "<class 'float'>       6\n",
       "Name: Amount($), dtype: int64"
      ]
     },
     "execution_count": 73,
     "metadata": {},
     "output_type": "execute_result"
    }
   ],
   "source": [
    "# Checking the value count of all data types in Amount column\n",
    "data['Amount($)'].apply(type).value_counts() "
   ]
  },
  {
   "cell_type": "code",
   "execution_count": 74,
   "id": "1f3c824c",
   "metadata": {},
   "outputs": [
    {
     "name": "stdout",
     "output_type": "stream",
     "text": [
      "Number of missing data: 6\n"
     ]
    }
   ],
   "source": [
    "# Printing the number of null values in the Amount($) column\n",
    "print('Number of missing data:', data[data['Amount($)'].isnull()].shape[0])"
   ]
  },
  {
   "cell_type": "markdown",
   "id": "ed4b71ff",
   "metadata": {},
   "source": [
    "As we can see, the amount column has some amounts in Rupees and some in dollars. We have to strip off the rupees sign and convert it to dollars since all amount is supposed to be in dollars. Also there are some amount without any currency sign which probably comes from the 2018_data and was mostly in Rupees. so we will add that one to the rupees amount and convert it to dollars. We will also fill missing values and undisclosed values (—) with '0'"
   ]
  },
  {
   "cell_type": "code",
   "execution_count": 75,
   "id": "f29600cf",
   "metadata": {},
   "outputs": [],
   "source": [
    "# Stripping rupees sign and removing commas from the values\n",
    "data['Amount($)']= data['Amount($)'].str.strip('₹').str.replace(',', '')"
   ]
  },
  {
   "cell_type": "code",
   "execution_count": 76,
   "id": "b2a21b5f",
   "metadata": {},
   "outputs": [],
   "source": [
    "data['Amount($)'].fillna(value= '0' ,inplace=True) # filling null values as '0'"
   ]
  },
  {
   "cell_type": "markdown",
   "id": "ee3e1d3a",
   "metadata": {
    "scrolled": true
   },
   "source": [
    "Before we convert Rupees to dollars\n",
    "- we will first create a variable to segment the values already in dollars and the Undisclosed values\n",
    "- we will then differentiate them from the entire column values to get the amount in Rupees which we will convert"
   ]
  },
  {
   "cell_type": "code",
   "execution_count": 77,
   "id": "4aab7abb",
   "metadata": {},
   "outputs": [],
   "source": [
    "# Creating a variable to separate amounts already in dollars\n",
    "DollarAmount= data['Amount($)'][data['Amount($)'].str.contains('\\$')].index "
   ]
  },
  {
   "cell_type": "code",
   "execution_count": 78,
   "id": "a51768d3",
   "metadata": {},
   "outputs": [],
   "source": [
    "# Creating a variable to separate Undisclosed Amounts\n",
    "UndisclosedAmount= data[data['Amount($)'].str.contains('—')].index "
   ]
  },
  {
   "cell_type": "code",
   "execution_count": 79,
   "id": "e24c225b",
   "metadata": {},
   "outputs": [],
   "source": [
    "# Extracting Amounts in Rupees\n",
    "RupeesAmount= list(set(data.index).difference(set(DollarAmount).union(UndisclosedAmount))) "
   ]
  },
  {
   "cell_type": "code",
   "execution_count": 80,
   "id": "90ff52c1",
   "metadata": {},
   "outputs": [
    {
     "data": {
      "text/plain": [
       "86          $143145 \n",
       "90       $742000000 \n",
       "93         $3980000 \n",
       "95           $10000 \n",
       "101     $1000000000 \n",
       "            ...     \n",
       "2874       $3000000 \n",
       "2875      $20000000 \n",
       "2876      $55000000 \n",
       "2877      $26000000 \n",
       "2878       $8000000 \n",
       "Name: Amount($), Length: 2011, dtype: object"
      ]
     },
     "execution_count": 80,
     "metadata": {},
     "output_type": "execute_result"
    }
   ],
   "source": [
    "# Visualising Amounts already in dollars\n",
    "data.loc[DollarAmount]['Amount($)'] "
   ]
  },
  {
   "cell_type": "code",
   "execution_count": 81,
   "id": "bb966919",
   "metadata": {},
   "outputs": [
    {
     "data": {
      "text/plain": [
       "4       —\n",
       "8       —\n",
       "9       —\n",
       "10      —\n",
       "11      —\n",
       "       ..\n",
       "2798    —\n",
       "2830    —\n",
       "2831    —\n",
       "2836    —\n",
       "2863    —\n",
       "Name: Amount($), Length: 544, dtype: object"
      ]
     },
     "execution_count": 81,
     "metadata": {},
     "output_type": "execute_result"
    }
   ],
   "source": [
    "# Visualising Undisclosed Amounts\n",
    "data.loc[UndisclosedAmount]['Amount($)']"
   ]
  },
  {
   "cell_type": "code",
   "execution_count": 82,
   "id": "78edcb8f",
   "metadata": {},
   "outputs": [
    {
     "data": {
      "text/plain": [
       "0         250000\n",
       "1       40000000\n",
       "2       65000000\n",
       "3        2000000\n",
       "5        1600000\n",
       "          ...   \n",
       "659            0\n",
       "2807           0\n",
       "2816           0\n",
       "850            0\n",
       "1756           0\n",
       "Name: Amount($), Length: 324, dtype: object"
      ]
     },
     "execution_count": 82,
     "metadata": {},
     "output_type": "execute_result"
    }
   ],
   "source": [
    "# Visualising Amounts in Rupees\n",
    "data.loc[RupeesAmount]['Amount($)']"
   ]
  },
  {
   "cell_type": "code",
   "execution_count": 83,
   "id": "958a53f5",
   "metadata": {},
   "outputs": [],
   "source": [
    "# Converting Rupees Amounts to dollars\n",
    "data['Amount($)'].loc[RupeesAmount]= data.loc[RupeesAmount]['Amount($)'].astype(float)*0.013"
   ]
  },
  {
   "cell_type": "code",
   "execution_count": 84,
   "id": "9ca0f583",
   "metadata": {},
   "outputs": [
    {
     "data": {
      "text/plain": [
       "0         3250.0\n",
       "1       520000.0\n",
       "2       845000.0\n",
       "3        26000.0\n",
       "5        20800.0\n",
       "          ...   \n",
       "659          0.0\n",
       "2807         0.0\n",
       "2816         0.0\n",
       "850          0.0\n",
       "1756         0.0\n",
       "Name: Amount($), Length: 324, dtype: object"
      ]
     },
     "execution_count": 84,
     "metadata": {},
     "output_type": "execute_result"
    }
   ],
   "source": [
    "# Visualising Converted Rupees Amount\n",
    "data.loc[RupeesAmount]['Amount($)']"
   ]
  },
  {
   "cell_type": "markdown",
   "id": "386d7591",
   "metadata": {},
   "source": [
    "###### Now that all amounts are in dollars, we have to Replace all Undisclosed amounts(—) with '0' and convert all the data type as float so that we can make calculations with the Amount column"
   ]
  },
  {
   "cell_type": "code",
   "execution_count": 85,
   "id": "17592d7a",
   "metadata": {},
   "outputs": [],
   "source": [
    "# Replacing Undisclosed amount(—) with '0' so that we can make calculations with it\n",
    "data['Amount($)']= data['Amount($)'].replace('—', '0') "
   ]
  },
  {
   "cell_type": "code",
   "execution_count": 86,
   "id": "7fc762b3",
   "metadata": {},
   "outputs": [
    {
     "data": {
      "text/plain": [
       "<class 'str'>      2555\n",
       "<class 'float'>     324\n",
       "Name: Amount($), dtype: int64"
      ]
     },
     "execution_count": 86,
     "metadata": {},
     "output_type": "execute_result"
    }
   ],
   "source": [
    "# We have 2555 of our values in string and remaining 324(converted Rupees) in float\n",
    "data['Amount($)'].apply(type).value_counts()"
   ]
  },
  {
   "cell_type": "markdown",
   "id": "3752d3be",
   "metadata": {},
   "source": [
    "###### Converting all values in the Amount($) column to Float"
   ]
  },
  {
   "cell_type": "code",
   "execution_count": 87,
   "id": "c732ba10",
   "metadata": {},
   "outputs": [],
   "source": [
    "\"\"\" If the value is a string, then remove currency symbol\n",
    "    otherwise, the value is numeric and can be converted\n",
    "    \"\"\"\n",
    "data['Amount($)'] = data['Amount($)'].apply(lambda x: x.replace('$', '')\n",
    "                                if isinstance(x, str) else x).astype(float)"
   ]
  },
  {
   "cell_type": "markdown",
   "id": "6ad0787b",
   "metadata": {},
   "source": [
    "# Data Analysis"
   ]
  },
  {
   "cell_type": "code",
   "execution_count": 88,
   "id": "77a2ca84",
   "metadata": {},
   "outputs": [],
   "source": [
    "\"\"\"\" This function will display values on plots when called\"\"\"\n",
    "def show_values(axs, orient=\"v\", space=.01):\n",
    "    def _single(ax):\n",
    "        if orient == \"v\":\n",
    "            for p in ax.patches:\n",
    "                _x = p.get_x() + p.get_width() / 2\n",
    "                _y = p.get_y() + p.get_height() + (p.get_height()*0.02)\n",
    "                value = '{:.1f}'.format(p.get_height())\n",
    "                ax.text(_x, _y, value, ha=\"center\") \n",
    "        elif orient == \"h\":\n",
    "            for p in ax.patches:\n",
    "                _x = p.get_x() + p.get_width() + int(space)\n",
    "                _y = p.get_y() + p.get_height() - (p.get_height()*0.5)\n",
    "                value = '{:.1f}'.format(p.get_width())\n",
    "                ax.text(_x, _y, value, ha=\"left\")\n",
    "\n",
    "    if isinstance(axs, np.ndarray):\n",
    "        for idx, ax in np.ndenumerate(axs):\n",
    "            _single(ax)\n",
    "    else:\n",
    "        _single(axs)"
   ]
  },
  {
   "cell_type": "markdown",
   "id": "322884e0",
   "metadata": {},
   "source": [
    "## Q1. Top 10 Startups based on funds received from 2018 to 2021"
   ]
  },
  {
   "cell_type": "code",
   "execution_count": 89,
   "id": "b854a523",
   "metadata": {
    "scrolled": true
   },
   "outputs": [
    {
     "data": {
      "text/html": [
       "<div>\n",
       "<style scoped>\n",
       "    .dataframe tbody tr th:only-of-type {\n",
       "        vertical-align: middle;\n",
       "    }\n",
       "\n",
       "    .dataframe tbody tr th {\n",
       "        vertical-align: top;\n",
       "    }\n",
       "\n",
       "    .dataframe thead th {\n",
       "        text-align: right;\n",
       "    }\n",
       "</style>\n",
       "<table border=\"1\" class=\"dataframe\">\n",
       "  <thead>\n",
       "    <tr style=\"text-align: right;\">\n",
       "      <th></th>\n",
       "      <th>Company/Brand</th>\n",
       "      <th>Amount($)</th>\n",
       "    </tr>\n",
       "  </thead>\n",
       "  <tbody>\n",
       "    <tr>\n",
       "      <th>0</th>\n",
       "      <td>Alteria capital</td>\n",
       "      <td>150000000000</td>\n",
       "    </tr>\n",
       "    <tr>\n",
       "      <th>1</th>\n",
       "      <td>Reliance retail ventures ltd</td>\n",
       "      <td>70000000000</td>\n",
       "    </tr>\n",
       "    <tr>\n",
       "      <th>2</th>\n",
       "      <td>Byju's</td>\n",
       "      <td>4112000000</td>\n",
       "    </tr>\n",
       "    <tr>\n",
       "      <th>3</th>\n",
       "      <td>Snowflake</td>\n",
       "      <td>3000000000</td>\n",
       "    </tr>\n",
       "    <tr>\n",
       "      <th>4</th>\n",
       "      <td>Reliance</td>\n",
       "      <td>2200000000</td>\n",
       "    </tr>\n",
       "    <tr>\n",
       "      <th>5</th>\n",
       "      <td>Swiggy</td>\n",
       "      <td>1956000000</td>\n",
       "    </tr>\n",
       "    <tr>\n",
       "      <th>6</th>\n",
       "      <td>Oyo</td>\n",
       "      <td>1665000000</td>\n",
       "    </tr>\n",
       "    <tr>\n",
       "      <th>7</th>\n",
       "      <td>Verse innovation</td>\n",
       "      <td>1550000000</td>\n",
       "    </tr>\n",
       "    <tr>\n",
       "      <th>8</th>\n",
       "      <td>Dream sports</td>\n",
       "      <td>1240000000</td>\n",
       "    </tr>\n",
       "    <tr>\n",
       "      <th>9</th>\n",
       "      <td>Zomato</td>\n",
       "      <td>1031730000</td>\n",
       "    </tr>\n",
       "  </tbody>\n",
       "</table>\n",
       "</div>"
      ],
      "text/plain": [
       "                  Company/Brand     Amount($)\n",
       "0               Alteria capital  150000000000\n",
       "1  Reliance retail ventures ltd   70000000000\n",
       "2                        Byju's    4112000000\n",
       "3                     Snowflake    3000000000\n",
       "4                      Reliance    2200000000\n",
       "5                        Swiggy    1956000000\n",
       "6                           Oyo    1665000000\n",
       "7              Verse innovation    1550000000\n",
       "8                  Dream sports    1240000000\n",
       "9                        Zomato    1031730000"
      ]
     },
     "execution_count": 89,
     "metadata": {},
     "output_type": "execute_result"
    }
   ],
   "source": [
    "# Extracting the Top 10 Startups on the basis of Amounts received\n",
    "top_10_startups=pd.DataFrame(data.groupby('Company/Brand')['Amount($)'].sum().sort_values(ascending=False).reset_index().head(10))\n",
    "top_10_startups['Amount($)']=top_10_startups['Amount($)'].apply(lambda x: math.ceil(x))\n",
    "top_10_startups"
   ]
  },
  {
   "cell_type": "code",
   "execution_count": 90,
   "id": "348fd45d",
   "metadata": {
    "scrolled": true
   },
   "outputs": [
    {
     "data": {
      "image/png": "[encoded data removed]",
      "text/plain": [
       "<Figure size 1080x432 with 1 Axes>"
      ]
     },
     "metadata": {
      "needs_background": "light"
     },
     "output_type": "display_data"
    },
    {
     "data": {
      "text/plain": [
       "<Figure size 432x288 with 0 Axes>"
      ]
     },
     "metadata": {},
     "output_type": "display_data"
    }
   ],
   "source": [
    "# Plotting graph for Top 10 Startups\n",
    "plt.figure(figsize=(15,6))\n",
    "plt.title('TOP 10 STARTUPS',fontsize=25)\n",
    "plt.ylabel('Amount($)',fontsize=25)\n",
    "plt.xlabel('Company/Brand',fontsize=25)\n",
    "p=sns.barplot(x='Company/Brand',y='Amount($)',data=top_10_startups)\n",
    "p.set_yscale('log')\n",
    "show_values(p)\n",
    "plt.setp(p.get_xticklabels(), rotation=20, ha='right', fontsize=14) # Function to avoid overlapping of x-ticks\n",
    "plt.show()\n",
    "plt.savefig('top10startups.png',dpi=300)"
   ]
  },
  {
   "cell_type": "markdown",
   "id": "a13ab45e",
   "metadata": {},
   "source": [
    " The above Output shows the top 10 startups funded between 2018 to 2021"
   ]
  },
  {
   "cell_type": "markdown",
   "id": "c302ca05",
   "metadata": {},
   "source": [
    "### - Now Lets have a closer look at each of the Top 10 Companies/Brand, their Sectors, and What they do"
   ]
  },
  {
   "cell_type": "code",
   "execution_count": 91,
   "id": "e56ceaa9",
   "metadata": {},
   "outputs": [],
   "source": [
    "# Locating the Top 10 Companies/Brand\n",
    "a=data.loc[data['Company/Brand'] == 'Alteria capital']\n",
    "b=data.loc[data['Company/Brand'] == 'Reliance retail ventures ltd']\n",
    "e=data.loc[data['Company/Brand'] == \"Byju's\"]\n",
    "c=data.loc[data['Company/Brand'] == 'Snowflake']\n",
    "d=data.loc[data['Company/Brand'] == 'Reliance']\n",
    "f=data.loc[data['Company/Brand'] == 'Swiggy']\n",
    "g=data.loc[data['Company/Brand'] == 'Oyo']\n",
    "h=data.loc[data['Company/Brand'] == 'Verse innovation']\n",
    "i=data.loc[data['Company/Brand'] == 'Dream sports']\n",
    "j=data.loc[data['Company/Brand'] == 'Zomato']"
   ]
  },
  {
   "cell_type": "code",
   "execution_count": 92,
   "id": "66a56a6a",
   "metadata": {},
   "outputs": [
    {
     "data": {
      "text/html": [
       "<div>\n",
       "<style scoped>\n",
       "    .dataframe tbody tr th:only-of-type {\n",
       "        vertical-align: middle;\n",
       "    }\n",
       "\n",
       "    .dataframe tbody tr th {\n",
       "        vertical-align: top;\n",
       "    }\n",
       "\n",
       "    .dataframe thead th {\n",
       "        text-align: right;\n",
       "    }\n",
       "</style>\n",
       "<table border=\"1\" class=\"dataframe\">\n",
       "  <thead>\n",
       "    <tr style=\"text-align: right;\">\n",
       "      <th></th>\n",
       "      <th>Company/Brand</th>\n",
       "      <th>Sector</th>\n",
       "      <th>What it does</th>\n",
       "    </tr>\n",
       "  </thead>\n",
       "  <tbody>\n",
       "    <tr>\n",
       "      <th>0</th>\n",
       "      <td>Alteria capital</td>\n",
       "      <td>Technology sector</td>\n",
       "      <td>Alteria Capital is a Venture debt firm .</td>\n",
       "    </tr>\n",
       "    <tr>\n",
       "      <th>1</th>\n",
       "      <td>Reliance retail ventures ltd</td>\n",
       "      <td>retail</td>\n",
       "      <td>Reliance Retail offers online shopping and a chain of neighborhood stores, supermarkets, and wholesale/specialty stores.</td>\n",
       "    </tr>\n",
       "    <tr>\n",
       "      <th>2</th>\n",
       "      <td>Snowflake</td>\n",
       "      <td>Technology sector</td>\n",
       "      <td>Snowflake is a cloud data platform that provides a data warehouse-as-a-service designed for the cloud.</td>\n",
       "    </tr>\n",
       "    <tr>\n",
       "      <th>3</th>\n",
       "      <td>Reliance</td>\n",
       "      <td>multinational conglomerate company</td>\n",
       "      <td>Reliance owns businesses across India engaged in energy, petrochemicals, textiles, natural resources</td>\n",
       "    </tr>\n",
       "    <tr>\n",
       "      <th>4</th>\n",
       "      <td>Byju's</td>\n",
       "      <td>Technology sector</td>\n",
       "      <td>BYJU’s is an edtech company that is reinventing how students learn through its learning app.</td>\n",
       "    </tr>\n",
       "    <tr>\n",
       "      <th>5</th>\n",
       "      <td>Swiggy</td>\n",
       "      <td>Technology sector</td>\n",
       "      <td>Platform to order food online from restaurants and getting it delievered</td>\n",
       "    </tr>\n",
       "    <tr>\n",
       "      <th>6</th>\n",
       "      <td>Oyo</td>\n",
       "      <td>hospitality</td>\n",
       "      <td>OYO operates a branded network of hotels designed to offer standardized stay experiences.</td>\n",
       "    </tr>\n",
       "    <tr>\n",
       "      <th>7</th>\n",
       "      <td>Verse innovation</td>\n",
       "      <td>media</td>\n",
       "      <td>The core of the company (VerSe Innovation), is the idea that technology can help bridge the digital divide.</td>\n",
       "    </tr>\n",
       "    <tr>\n",
       "      <th>8</th>\n",
       "      <td>Dream sports</td>\n",
       "      <td>sports</td>\n",
       "      <td>Dream Sports is India’s leading sports technology company with brands such as Dream11, world’s largest fantasy sports platform</td>\n",
       "    </tr>\n",
       "    <tr>\n",
       "      <th>9</th>\n",
       "      <td>Zomato</td>\n",
       "      <td>Technology sector</td>\n",
       "      <td>Online food delivery and restaurant discovery platform</td>\n",
       "    </tr>\n",
       "  </tbody>\n",
       "</table>\n",
       "</div>"
      ],
      "text/plain": [
       "                  Company/Brand                              Sector  \\\n",
       "0               Alteria capital                   Technology sector   \n",
       "1  Reliance retail ventures ltd                              retail   \n",
       "2                     Snowflake                   Technology sector   \n",
       "3                      Reliance  multinational conglomerate company   \n",
       "4                        Byju's                   Technology sector   \n",
       "5                        Swiggy                   Technology sector   \n",
       "6                           Oyo                         hospitality   \n",
       "7              Verse innovation                               media   \n",
       "8                  Dream sports                              sports   \n",
       "9                        Zomato                   Technology sector   \n",
       "\n",
       "                                                                                                                     What it does  \n",
       "0                                                                                        Alteria Capital is a Venture debt firm .  \n",
       "1        Reliance Retail offers online shopping and a chain of neighborhood stores, supermarkets, and wholesale/specialty stores.  \n",
       "2                          Snowflake is a cloud data platform that provides a data warehouse-as-a-service designed for the cloud.  \n",
       "3                            Reliance owns businesses across India engaged in energy, petrochemicals, textiles, natural resources  \n",
       "4                                    BYJU’s is an edtech company that is reinventing how students learn through its learning app.  \n",
       "5                                                        Platform to order food online from restaurants and getting it delievered  \n",
       "6                                       OYO operates a branded network of hotels designed to offer standardized stay experiences.  \n",
       "7                     The core of the company (VerSe Innovation), is the idea that technology can help bridge the digital divide.  \n",
       "8  Dream Sports is India’s leading sports technology company with brands such as Dream11, world’s largest fantasy sports platform  \n",
       "9                                                                          Online food delivery and restaurant discovery platform  "
      ]
     },
     "execution_count": 92,
     "metadata": {},
     "output_type": "execute_result"
    }
   ],
   "source": [
    "# Merging all the dataset to display their Sector and What they do\n",
    "merge = [a,b,c,d,e,f,g,h,i,j] \n",
    "merged=pd.concat(merge)\n",
    "pd.set_option('display.max_colwidth', None)\n",
    "merged[['Company/Brand','Sector', 'What it does']].drop(index=[542,739,941,977,1109,1233,1550,1650,2308,2335,\n",
    "                                               2392,2406,2532,1414,2621,101,1723,148,611,\n",
    "                                               1820,2121,2202,2016,642,630,963,982,1416,444,862]).reset_index(drop=True)\n",
    "                                               "
   ]
  },
  {
   "cell_type": "markdown",
   "id": "737bb037",
   "metadata": {},
   "source": [
    "###### A closer look at each of the Top 10 Companies/Brand, their Sectors, and What they do"
   ]
  },
  {
   "cell_type": "markdown",
   "id": "986f54b3",
   "metadata": {},
   "source": [
    "## Q2. Yearly trend in the number of startups funded"
   ]
  },
  {
   "cell_type": "code",
   "execution_count": 93,
   "id": "8228ad64",
   "metadata": {
    "scrolled": true
   },
   "outputs": [
    {
     "data": {
      "text/html": [
       "<div>\n",
       "<style scoped>\n",
       "    .dataframe tbody tr th:only-of-type {\n",
       "        vertical-align: middle;\n",
       "    }\n",
       "\n",
       "    .dataframe tbody tr th {\n",
       "        vertical-align: top;\n",
       "    }\n",
       "\n",
       "    .dataframe thead th {\n",
       "        text-align: right;\n",
       "    }\n",
       "</style>\n",
       "<table border=\"1\" class=\"dataframe\">\n",
       "  <thead>\n",
       "    <tr style=\"text-align: right;\">\n",
       "      <th></th>\n",
       "      <th>Company/Brand</th>\n",
       "    </tr>\n",
       "    <tr>\n",
       "      <th>Funding_year</th>\n",
       "      <th></th>\n",
       "    </tr>\n",
       "  </thead>\n",
       "  <tbody>\n",
       "    <tr>\n",
       "      <th>2021</th>\n",
       "      <td>1209</td>\n",
       "    </tr>\n",
       "    <tr>\n",
       "      <th>2020</th>\n",
       "      <td>1055</td>\n",
       "    </tr>\n",
       "    <tr>\n",
       "      <th>2018</th>\n",
       "      <td>526</td>\n",
       "    </tr>\n",
       "    <tr>\n",
       "      <th>2019</th>\n",
       "      <td>89</td>\n",
       "    </tr>\n",
       "  </tbody>\n",
       "</table>\n",
       "</div>"
      ],
      "text/plain": [
       "              Company/Brand\n",
       "Funding_year               \n",
       "2021                   1209\n",
       "2020                   1055\n",
       "2018                    526\n",
       "2019                     89"
      ]
     },
     "execution_count": 93,
     "metadata": {},
     "output_type": "execute_result"
    }
   ],
   "source": [
    "pd.DataFrame(data.groupby('Funding_year')['Company/Brand'].count().sort_values(ascending=False))"
   ]
  },
  {
   "cell_type": "code",
   "execution_count": 94,
   "id": "b63f0d1f",
   "metadata": {
    "scrolled": true
   },
   "outputs": [
    {
     "data": {
      "image/png": "[encoded data removed]",
      "text/plain": [
       "<Figure size 720x360 with 1 Axes>"
      ]
     },
     "metadata": {
      "needs_background": "light"
     },
     "output_type": "display_data"
    }
   ],
   "source": [
    "# Plotting graph for Yearly trend in the number of startups funded\n",
    "plt.figure(figsize=(10,5))\n",
    "plt.title('Yearly trend in the number of startups funded',fontsize=20)\n",
    "plt.ylabel('Count',fontsize=22)\n",
    "plt.xlabel('Funding Year',fontsize=20)\n",
    "plt.xticks(fontsize=14)\n",
    "p=sns.countplot(x='Funding_year',data=data)\n",
    "show_values(p)\n",
    "plt.savefig('StartupsPerYear.png',dpi=300)"
   ]
  },
  {
   "cell_type": "markdown",
   "id": "d4c13487",
   "metadata": {},
   "source": [
    "From the plot, we can see that 2021 saw the most number of startups being funded. The number of startups being funded have been increasing from 2018 but had a sharp decline in 2019"
   ]
  },
  {
   "cell_type": "markdown",
   "id": "9f701191",
   "metadata": {},
   "source": [
    "## Q3. Yearly trend in the total funds raised by startups from 2018 to 2021"
   ]
  },
  {
   "cell_type": "code",
   "execution_count": 95,
   "id": "b851ac8c",
   "metadata": {
    "scrolled": true
   },
   "outputs": [
    {
     "data": {
      "text/html": [
       "<div>\n",
       "<style scoped>\n",
       "    .dataframe tbody tr th:only-of-type {\n",
       "        vertical-align: middle;\n",
       "    }\n",
       "\n",
       "    .dataframe tbody tr th {\n",
       "        vertical-align: top;\n",
       "    }\n",
       "\n",
       "    .dataframe thead th {\n",
       "        text-align: right;\n",
       "    }\n",
       "</style>\n",
       "<table border=\"1\" class=\"dataframe\">\n",
       "  <thead>\n",
       "    <tr style=\"text-align: right;\">\n",
       "      <th></th>\n",
       "      <th>Funding_year</th>\n",
       "      <th>Amount($)</th>\n",
       "    </tr>\n",
       "  </thead>\n",
       "  <tbody>\n",
       "    <tr>\n",
       "      <th>0</th>\n",
       "      <td>2018</td>\n",
       "      <td>4398782028</td>\n",
       "    </tr>\n",
       "    <tr>\n",
       "      <th>1</th>\n",
       "      <td>2019</td>\n",
       "      <td>3336433200</td>\n",
       "    </tr>\n",
       "    <tr>\n",
       "      <th>2</th>\n",
       "      <td>2020</td>\n",
       "      <td>91445499604</td>\n",
       "    </tr>\n",
       "    <tr>\n",
       "      <th>3</th>\n",
       "      <td>2021</td>\n",
       "      <td>179874412000</td>\n",
       "    </tr>\n",
       "  </tbody>\n",
       "</table>\n",
       "</div>"
      ],
      "text/plain": [
       "   Funding_year     Amount($)\n",
       "0          2018    4398782028\n",
       "1          2019    3336433200\n",
       "2          2020   91445499604\n",
       "3          2021  179874412000"
      ]
     },
     "execution_count": 95,
     "metadata": {},
     "output_type": "execute_result"
    }
   ],
   "source": [
    "YearlyTotal=pd.DataFrame(data.groupby('Funding_year')['Amount($)'].sum().reset_index())\n",
    "YearlyTotal['Amount($)']=YearlyTotal['Amount($)'].apply(lambda x: math.ceil(x))\n",
    "YearlyTotal"
   ]
  },
  {
   "cell_type": "code",
   "execution_count": 96,
   "id": "549f993c",
   "metadata": {
    "scrolled": true
   },
   "outputs": [
    {
     "data": {
      "image/png": "[encoded data removed]",
      "text/plain": [
       "<Figure size 864x360 with 1 Axes>"
      ]
     },
     "metadata": {
      "needs_background": "light"
     },
     "output_type": "display_data"
    }
   ],
   "source": [
    "#Plotting a graph for Yearly trend in the amount of funds raised by startups\n",
    "plt.figure(figsize=(12,5))\n",
    "plt.title('Yearly trend in the total funds raised by startups',fontsize=20)\n",
    "plt.xticks(fontsize=20,rotation='horizontal')\n",
    "plt.ylabel('Total Funds Raised',fontsize=25)\n",
    "plt.xlabel('Funding Year',fontsize=25)\n",
    "p=sns.barplot(x='Funding_year',y='Amount($)',data=YearlyTotal)\n",
    "show_values(p)\n",
    "p.set_yscale('log')\n",
    "plt.savefig('YearlyAmountTotal.png',dpi=300)\n",
    "plt.show()"
   ]
  },
  {
   "cell_type": "markdown",
   "id": "63604107",
   "metadata": {},
   "source": [
    "##  Q4.\tSector with the maximum number of startups"
   ]
  },
  {
   "cell_type": "code",
   "execution_count": 111,
   "id": "1605a9a0",
   "metadata": {},
   "outputs": [
    {
     "data": {
      "text/html": [
       "<div>\n",
       "<style scoped>\n",
       "    .dataframe tbody tr th:only-of-type {\n",
       "        vertical-align: middle;\n",
       "    }\n",
       "\n",
       "    .dataframe tbody tr th {\n",
       "        vertical-align: top;\n",
       "    }\n",
       "\n",
       "    .dataframe thead th {\n",
       "        text-align: right;\n",
       "    }\n",
       "</style>\n",
       "<table border=\"1\" class=\"dataframe\">\n",
       "  <thead>\n",
       "    <tr style=\"text-align: right;\">\n",
       "      <th></th>\n",
       "      <th>Sector</th>\n",
       "      <th>Company/Brand</th>\n",
       "    </tr>\n",
       "  </thead>\n",
       "  <tbody>\n",
       "    <tr>\n",
       "      <th>0</th>\n",
       "      <td>Technology sector</td>\n",
       "      <td>952</td>\n",
       "    </tr>\n",
       "    <tr>\n",
       "      <th>1</th>\n",
       "      <td>financial services</td>\n",
       "      <td>77</td>\n",
       "    </tr>\n",
       "    <tr>\n",
       "      <th>2</th>\n",
       "      <td>e-commerce</td>\n",
       "      <td>75</td>\n",
       "    </tr>\n",
       "    <tr>\n",
       "      <th>3</th>\n",
       "      <td>healthcare</td>\n",
       "      <td>67</td>\n",
       "    </tr>\n",
       "    <tr>\n",
       "      <th>4</th>\n",
       "      <td>automotive</td>\n",
       "      <td>39</td>\n",
       "    </tr>\n",
       "    <tr>\n",
       "      <th>5</th>\n",
       "      <td>food &amp; beverages</td>\n",
       "      <td>39</td>\n",
       "    </tr>\n",
       "    <tr>\n",
       "      <th>6</th>\n",
       "      <td>gaming</td>\n",
       "      <td>35</td>\n",
       "    </tr>\n",
       "    <tr>\n",
       "      <th>7</th>\n",
       "      <td>logistics</td>\n",
       "      <td>34</td>\n",
       "    </tr>\n",
       "    <tr>\n",
       "      <th>8</th>\n",
       "      <td>computer software</td>\n",
       "      <td>31</td>\n",
       "    </tr>\n",
       "    <tr>\n",
       "      <th>9</th>\n",
       "      <td>saas</td>\n",
       "      <td>30</td>\n",
       "    </tr>\n",
       "  </tbody>\n",
       "</table>\n",
       "</div>"
      ],
      "text/plain": [
       "               Sector  Company/Brand\n",
       "0   Technology sector            952\n",
       "1  financial services             77\n",
       "2          e-commerce             75\n",
       "3          healthcare             67\n",
       "4          automotive             39\n",
       "5    food & beverages             39\n",
       "6              gaming             35\n",
       "7           logistics             34\n",
       "8   computer software             31\n",
       "9                saas             30"
      ]
     },
     "execution_count": 111,
     "metadata": {},
     "output_type": "execute_result"
    }
   ],
   "source": [
    "sector_graph=data[data['Sector']!='unknown']\n",
    "sector_graph= pd.DataFrame(sector_graph.groupby('Sector')['Company/Brand'].count().sort_values(ascending=False).reset_index().head(10))\n",
    "sector_graph"
   ]
  },
  {
   "cell_type": "code",
   "execution_count": 112,
   "id": "3bb69d61",
   "metadata": {},
   "outputs": [
    {
     "data": {
      "image/png": "[encoded data removed]",
      "text/plain": [
       "<Figure size 1152x576 with 1 Axes>"
      ]
     },
     "metadata": {
      "needs_background": "light"
     },
     "output_type": "display_data"
    }
   ],
   "source": [
    "# Plotting grapg for Sector with the maximum number of startups\n",
    "graph = data[data['Sector']!='unknown'].groupby('Sector')['Company/Brand'].count().sort_values(ascending=False).head(10)\n",
    "plt.figure(figsize=(16,8))\n",
    "plt.title('Number of Funded Startups in each Sector',fontsize=25)\n",
    "plt.ylabel('Sectors',fontsize=25)\n",
    "plt.xlabel('Count',fontsize=25)\n",
    "plt.yticks(fontsize=16)\n",
    "plt.xticks(fontsize=14)\n",
    "sns.barplot(graph.values,graph.index,palette='hot')\n",
    "plt.show()"
   ]
  },
  {
   "cell_type": "markdown",
   "id": "03335011",
   "metadata": {},
   "source": [
    "## Q5.\tSectors that raised the highest amount of funding from 2018 to 2021"
   ]
  },
  {
   "cell_type": "code",
   "execution_count": 99,
   "id": "73e95c9d",
   "metadata": {},
   "outputs": [
    {
     "data": {
      "text/html": [
       "<div>\n",
       "<style scoped>\n",
       "    .dataframe tbody tr th:only-of-type {\n",
       "        vertical-align: middle;\n",
       "    }\n",
       "\n",
       "    .dataframe tbody tr th {\n",
       "        vertical-align: top;\n",
       "    }\n",
       "\n",
       "    .dataframe thead th {\n",
       "        text-align: right;\n",
       "    }\n",
       "</style>\n",
       "<table border=\"1\" class=\"dataframe\">\n",
       "  <thead>\n",
       "    <tr style=\"text-align: right;\">\n",
       "      <th></th>\n",
       "      <th>Sector</th>\n",
       "      <th>Amount($)</th>\n",
       "    </tr>\n",
       "  </thead>\n",
       "  <tbody>\n",
       "    <tr>\n",
       "      <th>0</th>\n",
       "      <td>Technology sector</td>\n",
       "      <td>169317705900</td>\n",
       "    </tr>\n",
       "    <tr>\n",
       "      <th>1</th>\n",
       "      <td>retail</td>\n",
       "      <td>70542380000</td>\n",
       "    </tr>\n",
       "    <tr>\n",
       "      <th>2</th>\n",
       "      <td>e-commerce</td>\n",
       "      <td>2892058500</td>\n",
       "    </tr>\n",
       "    <tr>\n",
       "      <th>3</th>\n",
       "      <td>multinational conglomerate company</td>\n",
       "      <td>2200000000</td>\n",
       "    </tr>\n",
       "    <tr>\n",
       "      <th>4</th>\n",
       "      <td>automotive</td>\n",
       "      <td>2111805000</td>\n",
       "    </tr>\n",
       "    <tr>\n",
       "      <th>5</th>\n",
       "      <td>financial services</td>\n",
       "      <td>1757668700</td>\n",
       "    </tr>\n",
       "    <tr>\n",
       "      <th>6</th>\n",
       "      <td>hospitality</td>\n",
       "      <td>1622895000</td>\n",
       "    </tr>\n",
       "    <tr>\n",
       "      <th>7</th>\n",
       "      <td>food delivery</td>\n",
       "      <td>1460000000</td>\n",
       "    </tr>\n",
       "    <tr>\n",
       "      <th>8</th>\n",
       "      <td>insurance</td>\n",
       "      <td>1096663000</td>\n",
       "    </tr>\n",
       "    <tr>\n",
       "      <th>9</th>\n",
       "      <td>innovation management</td>\n",
       "      <td>1000500000</td>\n",
       "    </tr>\n",
       "  </tbody>\n",
       "</table>\n",
       "</div>"
      ],
      "text/plain": [
       "                               Sector     Amount($)\n",
       "0                   Technology sector  169317705900\n",
       "1                              retail   70542380000\n",
       "2                          e-commerce    2892058500\n",
       "3  multinational conglomerate company    2200000000\n",
       "4                          automotive    2111805000\n",
       "5                  financial services    1757668700\n",
       "6                         hospitality    1622895000\n",
       "7                       food delivery    1460000000\n",
       "8                           insurance    1096663000\n",
       "9               innovation management    1000500000"
      ]
     },
     "execution_count": 99,
     "metadata": {},
     "output_type": "execute_result"
    }
   ],
   "source": [
    "SectorAmount=pd.DataFrame(data.groupby('Sector')['Amount($)'].sum().sort_values(ascending=False).reset_index().head(10))\n",
    "SectorAmount['Amount($)']=SectorAmount['Amount($)'].apply(lambda x: math.ceil(x))\n",
    "SectorAmount"
   ]
  },
  {
   "cell_type": "code",
   "execution_count": 100,
   "id": "116cee1f",
   "metadata": {},
   "outputs": [
    {
     "data": {
      "image/png": "[encoded data removed]",
      "text/plain": [
       "<Figure size 1152x576 with 1 Axes>"
      ]
     },
     "metadata": {
      "needs_background": "light"
     },
     "output_type": "display_data"
    }
   ],
   "source": [
    "# Plotting a graph for Sectors and Amount of funds raised\n",
    "plt.figure(figsize=(16,8))\n",
    "plt.title('Sectors and Amount of startup funds raised',fontsize=20)\n",
    "plt.ylabel('Total Funds Raised',fontsize=25)\n",
    "plt.xlabel('Sector',fontsize=25)\n",
    "p=sns.barplot(x='Sector',y='Amount($)',data=SectorAmount)\n",
    "p.set_yscale('log')\n",
    "plt.setp(p.get_xticklabels(), rotation=25, ha='right', fontsize=14) # Function to avoid overlapping of x-ticks\n",
    "show_values(p)\n",
    "plt.savefig('SectorAmount.png',dpi=300)\n",
    "plt.show()"
   ]
  },
  {
   "cell_type": "markdown",
   "id": "a0f8b2f2",
   "metadata": {},
   "source": [
    "## Q6.\tCities with the maximum number of startups"
   ]
  },
  {
   "cell_type": "code",
   "execution_count": 101,
   "id": "383f1032",
   "metadata": {},
   "outputs": [
    {
     "data": {
      "text/plain": [
       "Bangalore    923\n",
       "Mumbai       474\n",
       "Gurugram     319\n",
       "New Delhi    232\n",
       "Chennai      106\n",
       "Pune         105\n",
       "Delhi         88\n",
       "Noida         86\n",
       "Hyderabad     78\n",
       "Jaipur        31\n",
       "Name: HeadQuarter, dtype: int64"
      ]
     },
     "execution_count": 101,
     "metadata": {},
     "output_type": "execute_result"
    }
   ],
   "source": [
    "cities=data[data['HeadQuarter']!='Not Specified']\n",
    "cities=cities['HeadQuarter'].value_counts().sort_values(ascending=False).head(10)\n",
    "cities"
   ]
  },
  {
   "cell_type": "code",
   "execution_count": 102,
   "id": "7655f1d6",
   "metadata": {},
   "outputs": [
    {
     "data": {
      "image/png": "[encoded data removed]",
      "text/plain": [
       "<Figure size 1080x576 with 1 Axes>"
      ]
     },
     "metadata": {
      "needs_background": "light"
     },
     "output_type": "display_data"
    }
   ],
   "source": [
    "#Plotting a graph for Number of Startups in each city(Top 10)\n",
    "plt.figure(figsize=(15,8))\n",
    "plt.title('Number of Startups in each City (Top 10)',fontsize=25)\n",
    "plt.ylabel('Cities',fontsize=25)\n",
    "plt.xlabel('Count',fontsize=25)\n",
    "sns.barplot(cities.values,cities.index,palette='hot')\n",
    "plt.show()"
   ]
  },
  {
   "cell_type": "markdown",
   "id": "3f8c02db",
   "metadata": {},
   "source": [
    "## Q7. The most common Investment Types"
   ]
  },
  {
   "cell_type": "code",
   "execution_count": 103,
   "id": "0a1ee148",
   "metadata": {},
   "outputs": [
    {
     "data": {
      "text/html": [
       "<div>\n",
       "<style scoped>\n",
       "    .dataframe tbody tr th:only-of-type {\n",
       "        vertical-align: middle;\n",
       "    }\n",
       "\n",
       "    .dataframe tbody tr th {\n",
       "        vertical-align: top;\n",
       "    }\n",
       "\n",
       "    .dataframe thead th {\n",
       "        text-align: right;\n",
       "    }\n",
       "</style>\n",
       "<table border=\"1\" class=\"dataframe\">\n",
       "  <thead>\n",
       "    <tr style=\"text-align: right;\">\n",
       "      <th></th>\n",
       "      <th>Stage</th>\n",
       "    </tr>\n",
       "  </thead>\n",
       "  <tbody>\n",
       "    <tr>\n",
       "      <th>Seed</th>\n",
       "      <td>608</td>\n",
       "    </tr>\n",
       "    <tr>\n",
       "      <th>Series A</th>\n",
       "      <td>305</td>\n",
       "    </tr>\n",
       "    <tr>\n",
       "      <th>Pre-series A</th>\n",
       "      <td>290</td>\n",
       "    </tr>\n",
       "    <tr>\n",
       "      <th>Series B</th>\n",
       "      <td>134</td>\n",
       "    </tr>\n",
       "    <tr>\n",
       "      <th>Series C</th>\n",
       "      <td>116</td>\n",
       "    </tr>\n",
       "    <tr>\n",
       "      <th>Seed Round</th>\n",
       "      <td>79</td>\n",
       "    </tr>\n",
       "    <tr>\n",
       "      <th>Pre-seed</th>\n",
       "      <td>58</td>\n",
       "    </tr>\n",
       "    <tr>\n",
       "      <th>Series D</th>\n",
       "      <td>50</td>\n",
       "    </tr>\n",
       "    <tr>\n",
       "      <th>Debt</th>\n",
       "      <td>45</td>\n",
       "    </tr>\n",
       "    <tr>\n",
       "      <th>Angel</th>\n",
       "      <td>37</td>\n",
       "    </tr>\n",
       "  </tbody>\n",
       "</table>\n",
       "</div>"
      ],
      "text/plain": [
       "              Stage\n",
       "Seed            608\n",
       "Series A        305\n",
       "Pre-series A    290\n",
       "Series B        134\n",
       "Series C        116\n",
       "Seed Round       79\n",
       "Pre-seed         58\n",
       "Series D         50\n",
       "Debt             45\n",
       "Angel            37"
      ]
     },
     "execution_count": 103,
     "metadata": {},
     "output_type": "execute_result"
    }
   ],
   "source": [
    "types= pd.DataFrame(data['Stage'].value_counts().head(10))\n",
    "types"
   ]
  },
  {
   "cell_type": "code",
   "execution_count": 104,
   "id": "d75e051a",
   "metadata": {},
   "outputs": [
    {
     "data": {
      "image/png": "[encoded data removed]",
      "text/plain": [
       "<Figure size 936x576 with 1 Axes>"
      ]
     },
     "metadata": {
      "needs_background": "light"
     },
     "output_type": "display_data"
    }
   ],
   "source": [
    "# Plotting a graph for Common Investment Types and Count\n",
    "graph_data=data['Stage'].value_counts().head(10)\n",
    "plt.figure(figsize=(13,8))\n",
    "plt.ylabel('Count',fontsize=19)\n",
    "plt.title('Common Investment Types and Count',fontsize=19)\n",
    "sns.barplot(graph_data.index,graph_data.values)\n",
    "plt.savefig('CommonInvestmentTypes.png',dpi=300)"
   ]
  },
  {
   "cell_type": "markdown",
   "id": "b4b52228",
   "metadata": {},
   "source": [
    "## Q8. Top investors by number of startups funded from 2018 to 2021 "
   ]
  },
  {
   "cell_type": "code",
   "execution_count": 105,
   "id": "50c28452",
   "metadata": {},
   "outputs": [
    {
     "data": {
      "text/plain": [
       "Undisclosed Investors                                  644\n",
       "Sequoia Capital                                         96\n",
       "Inflection Point Ventures                               36\n",
       "Mumbai Angels Network                                   35\n",
       "Venture Catalysts                                       32\n",
       "                                                      ... \n",
       "RB Investments Pte. Ltd, Goldman Sachs                   2\n",
       "Ascent Capital, Iron Pillar                              2\n",
       "Info Edge                                                2\n",
       "Techstars Bangalore Accelerator, Techstars               2\n",
       "Dragoneer Investment Group, Tiger Global Management      2\n",
       "Name: Investor, Length: 80, dtype: int64"
      ]
     },
     "execution_count": 105,
     "metadata": {},
     "output_type": "execute_result"
    }
   ],
   "source": [
    "# Checking the value count for the unique number of investors \n",
    "data['Investor'].value_counts().head(80)"
   ]
  },
  {
   "cell_type": "markdown",
   "id": "27dce429",
   "metadata": {},
   "source": [
    "From the above information, we see that a startup can be funded by multiple investors separated by commas. So to find out the Investor who has funded maximum number of companies, we need to devise a way to search each row for occurence of each investors name and count it. We will use re.search() method for this task. Below is the devised algorithm to find out actual number of startups funded by each investor by analysing rows with multiple investor names.\n",
    "\n",
    "*Note:* We will not consider that startups have got multiple fundings at different periods, We are just counting the number of startups that each investor funded once, or more than once at different point of times"
   ]
  },
  {
   "cell_type": "code",
   "execution_count": 106,
   "id": "6c187552",
   "metadata": {},
   "outputs": [],
   "source": [
    "investors_startups_funded={}\n",
    "unique_name=data['Investor'].unique()\n",
    "name=np.array(data['Investor'].values)\n",
    "for i in range(len(unique_name)):\n",
    "    for j in range(len(name)):\n",
    "        if(re.search(unique_name[i],name[j])):\n",
    "            investors_startups_funded[unique_name[i]]=investors_startups_funded.get(unique_name[i],0)+1"
   ]
  },
  {
   "cell_type": "code",
   "execution_count": 107,
   "id": "c06aa9d6",
   "metadata": {},
   "outputs": [],
   "source": [
    "# Defining a variable for Top 10 Investors by the number of startps funded\n",
    "top_investors = pd.DataFrame({'Investor Name':list(investors_startups_funded.keys()),\n",
    "                              'Number of Startups Funded':list(investors_startups_funded.values())}).sort_values('Number of Startups Funded',ascending=False)"
   ]
  },
  {
   "cell_type": "code",
   "execution_count": 108,
   "id": "00da0c9f",
   "metadata": {
    "scrolled": true
   },
   "outputs": [
    {
     "data": {
      "text/html": [
       "<div>\n",
       "<style scoped>\n",
       "    .dataframe tbody tr th:only-of-type {\n",
       "        vertical-align: middle;\n",
       "    }\n",
       "\n",
       "    .dataframe tbody tr th {\n",
       "        vertical-align: top;\n",
       "    }\n",
       "\n",
       "    .dataframe thead th {\n",
       "        text-align: right;\n",
       "    }\n",
       "</style>\n",
       "<table border=\"1\" class=\"dataframe\">\n",
       "  <thead>\n",
       "    <tr style=\"text-align: right;\">\n",
       "      <th></th>\n",
       "      <th>Investor Name</th>\n",
       "      <th>Number of Startups Funded</th>\n",
       "    </tr>\n",
       "  </thead>\n",
       "  <tbody>\n",
       "    <tr>\n",
       "      <th>0</th>\n",
       "      <td>Sequoia Capital</td>\n",
       "      <td>96</td>\n",
       "    </tr>\n",
       "    <tr>\n",
       "      <th>1</th>\n",
       "      <td>Accel</td>\n",
       "      <td>80</td>\n",
       "    </tr>\n",
       "    <tr>\n",
       "      <th>2</th>\n",
       "      <td>Venture Catalysts</td>\n",
       "      <td>61</td>\n",
       "    </tr>\n",
       "    <tr>\n",
       "      <th>3</th>\n",
       "      <td>Inflection Point Ventures</td>\n",
       "      <td>47</td>\n",
       "    </tr>\n",
       "    <tr>\n",
       "      <th>4</th>\n",
       "      <td>9Unicorns</td>\n",
       "      <td>41</td>\n",
       "    </tr>\n",
       "    <tr>\n",
       "      <th>5</th>\n",
       "      <td>Tiger Global</td>\n",
       "      <td>39</td>\n",
       "    </tr>\n",
       "    <tr>\n",
       "      <th>6</th>\n",
       "      <td>Titan Capital</td>\n",
       "      <td>37</td>\n",
       "    </tr>\n",
       "    <tr>\n",
       "      <th>7</th>\n",
       "      <td>Mumbai Angels Network</td>\n",
       "      <td>35</td>\n",
       "    </tr>\n",
       "    <tr>\n",
       "      <th>8</th>\n",
       "      <td>Y Combinator</td>\n",
       "      <td>30</td>\n",
       "    </tr>\n",
       "    <tr>\n",
       "      <th>9</th>\n",
       "      <td>Better Capital</td>\n",
       "      <td>29</td>\n",
       "    </tr>\n",
       "  </tbody>\n",
       "</table>\n",
       "</div>"
      ],
      "text/plain": [
       "               Investor Name  Number of Startups Funded\n",
       "0            Sequoia Capital                         96\n",
       "1                      Accel                         80\n",
       "2          Venture Catalysts                         61\n",
       "3  Inflection Point Ventures                         47\n",
       "4                  9Unicorns                         41\n",
       "5               Tiger Global                         39\n",
       "6              Titan Capital                         37\n",
       "7      Mumbai Angels Network                         35\n",
       "8               Y Combinator                         30\n",
       "9             Better Capital                         29"
      ]
     },
     "execution_count": 108,
     "metadata": {},
     "output_type": "execute_result"
    }
   ],
   "source": [
    "# Removing 'Undisclosed Investors' from Top Investors list\n",
    "top_investors[top_investors['Investor Name']!='Undisclosed Investors'].reset_index(drop=True).head(10)"
   ]
  },
  {
   "cell_type": "code",
   "execution_count": 109,
   "id": "3ee110be",
   "metadata": {},
   "outputs": [],
   "source": [
    "# Defining graph data\n",
    "graph=investors_startups_funded\n",
    "del graph['Undisclosed Investors']\n",
    "index=list(graph.keys())\n",
    "values =list(graph.values())"
   ]
  },
  {
   "cell_type": "code",
   "execution_count": 110,
   "id": "32d0412b",
   "metadata": {},
   "outputs": [
    {
     "data": {
      "image/png": "[encoded data removed]",
      "text/plain": [
       "<Figure size 1440x720 with 1 Axes>"
      ]
     },
     "metadata": {
      "needs_background": "light"
     },
     "output_type": "display_data"
    }
   ],
   "source": [
    "# Plotting a graph for Top investors by number of startups funded\n",
    "graph_data=pd.Series(values,index=index).sort_values(ascending=False).head(10)\n",
    "plt.figure(figsize=(20,10))\n",
    "plt.xlabel('Investors',fontsize=25)\n",
    "plt.ylabel('Count',fontsize=25)\n",
    "plt.title('Top 10 Investors by number of startups funded',fontsize=25)\n",
    "p=sns.barplot(graph_data.index,graph_data.values,palette='hot')\n",
    "plt.setp(p.get_xticklabels(), rotation=20, ha='right', fontsize=16) # Function to avoid overlapping of x-ticks\n",
    "plt.savefig('Investors.png',dpi=300)"
   ]
  },
  {
   "cell_type": "markdown",
   "id": "d6963aa8",
   "metadata": {},
   "source": [
    "Note: These investors have either funded startups as being the only investor or along with other investors."
   ]
  },
  {
   "cell_type": "markdown",
   "id": "39d2dd87",
   "metadata": {},
   "source": [
    "# Conclusion"
   ]
  },
  {
   "cell_type": "markdown",
   "id": "8ba43d55",
   "metadata": {},
   "source": [
    "From this analysis, we have gotten some information and insights into the Indian startup ecosystem.\n",
    "we got to know that startups in the Technology sector have received the highest amount of funding from 2018 to 2021, and are also the highest based on the number of startups in each sector and can therefore conclude that the Indian startup ecosystem is being championed by the Technology sector. we also got to know about the yearly trend in the number of startups funded, and many more interesting observations about the Indian Startup Ecosystem. I hope that this analysis can guide organizations or teams that are trying to venture into the Indian start-up ecosystem."
   ]
  }
 ],
 "metadata": {
  "kernelspec": {
   "display_name": "Python 3 (ipykernel)",
   "language": "python",
   "name": "python3"
  },
  "language_info": {
   "codemirror_mode": {
    "name": "ipython",
    "version": 3
   },
   "file_extension": ".py",
   "mimetype": "text/x-python",
   "name": "python",
   "nbconvert_exporter": "python",
   "pygments_lexer": "ipython3",
   "version": "3.9.12"
  }
 },
 "nbformat": 4,
 "nbformat_minor": 5
}
